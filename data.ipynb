{
  "nbformat": 4,
  "nbformat_minor": 0,
  "metadata": {
    "kernelspec": {
      "display_name": "Python 3",
      "language": "python",
      "name": "python3"
    },
    "language_info": {
      "codemirror_mode": {
        "name": "ipython",
        "version": 3
      },
      "file_extension": ".py",
      "mimetype": "text/x-python",
      "name": "python",
      "nbconvert_exporter": "python",
      "pygments_lexer": "ipython3",
      "version": "3.8.5"
    },
    "colab": {
      "name": "data.ipynb",
      "provenance": []
    }
  },
  "cells": [
    {
      "cell_type": "code",
      "metadata": {
        "id": "1CpckOePPyLW"
      },
      "source": [
        "import pandas as pd\n",
        "import numpy as np"
      ],
      "execution_count": 9,
      "outputs": []
    },
    {
      "cell_type": "code",
      "metadata": {
        "id": "e7dCLIoLP85F",
        "colab": {
          "base_uri": "https://localhost:8080/"
        },
        "outputId": "744d6036-d873-44bc-b76f-641a89c690c5"
      },
      "source": [
        "from google.colab import drive\n",
        "drive.mount('/content/drive')"
      ],
      "execution_count": 10,
      "outputs": [
        {
          "output_type": "stream",
          "text": [
            "Drive already mounted at /content/drive; to attempt to forcibly remount, call drive.mount(\"/content/drive\", force_remount=True).\n"
          ],
          "name": "stdout"
        }
      ]
    },
    {
      "cell_type": "code",
      "metadata": {
        "id": "5G7NlC3BPyLY"
      },
      "source": [
        "PATH='/content/drive/MyDrive/indian-cars-dataset'\n",
        "df=pd.read_csv(f'{PATH}/annotations.csv')"
      ],
      "execution_count": 11,
      "outputs": []
    },
    {
      "cell_type": "code",
      "metadata": {
        "id": "KonMg9O2PyLY",
        "colab": {
          "base_uri": "https://localhost:8080/",
          "height": 195
        },
        "outputId": "3fde501c-9388-43fb-e541-763e23cd6903"
      },
      "source": [
        "df.head()"
      ],
      "execution_count": 12,
      "outputs": [
        {
          "output_type": "execute_result",
          "data": {
            "text/html": [
              "<div>\n",
              "<style scoped>\n",
              "    .dataframe tbody tr th:only-of-type {\n",
              "        vertical-align: middle;\n",
              "    }\n",
              "\n",
              "    .dataframe tbody tr th {\n",
              "        vertical-align: top;\n",
              "    }\n",
              "\n",
              "    .dataframe thead th {\n",
              "        text-align: right;\n",
              "    }\n",
              "</style>\n",
              "<table border=\"1\" class=\"dataframe\">\n",
              "  <thead>\n",
              "    <tr style=\"text-align: right;\">\n",
              "      <th></th>\n",
              "      <th>image_name</th>\n",
              "      <th>image_width</th>\n",
              "      <th>image_height</th>\n",
              "      <th>top_x</th>\n",
              "      <th>top_y</th>\n",
              "      <th>bottom_x</th>\n",
              "      <th>bottom_y</th>\n",
              "    </tr>\n",
              "  </thead>\n",
              "  <tbody>\n",
              "    <tr>\n",
              "      <th>0</th>\n",
              "      <td>licensed_car0</td>\n",
              "      <td>806</td>\n",
              "      <td>466</td>\n",
              "      <td>0.722084</td>\n",
              "      <td>0.587983</td>\n",
              "      <td>0.868486</td>\n",
              "      <td>0.688841</td>\n",
              "    </tr>\n",
              "    <tr>\n",
              "      <th>1</th>\n",
              "      <td>licensed_car1</td>\n",
              "      <td>494</td>\n",
              "      <td>449</td>\n",
              "      <td>0.161943</td>\n",
              "      <td>0.850780</td>\n",
              "      <td>0.582996</td>\n",
              "      <td>1.000000</td>\n",
              "    </tr>\n",
              "    <tr>\n",
              "      <th>2</th>\n",
              "      <td>licensed_car2</td>\n",
              "      <td>500</td>\n",
              "      <td>314</td>\n",
              "      <td>0.082000</td>\n",
              "      <td>0.697452</td>\n",
              "      <td>0.230000</td>\n",
              "      <td>0.828025</td>\n",
              "    </tr>\n",
              "    <tr>\n",
              "      <th>3</th>\n",
              "      <td>licensed_car3</td>\n",
              "      <td>500</td>\n",
              "      <td>469</td>\n",
              "      <td>0.434000</td>\n",
              "      <td>0.667377</td>\n",
              "      <td>0.718000</td>\n",
              "      <td>0.765458</td>\n",
              "    </tr>\n",
              "    <tr>\n",
              "      <th>4</th>\n",
              "      <td>licensed_car4</td>\n",
              "      <td>1001</td>\n",
              "      <td>563</td>\n",
              "      <td>0.208791</td>\n",
              "      <td>0.390764</td>\n",
              "      <td>0.865135</td>\n",
              "      <td>0.984014</td>\n",
              "    </tr>\n",
              "  </tbody>\n",
              "</table>\n",
              "</div>"
            ],
            "text/plain": [
              "      image_name  image_width  image_height  ...     top_y  bottom_x  bottom_y\n",
              "0  licensed_car0          806           466  ...  0.587983  0.868486  0.688841\n",
              "1  licensed_car1          494           449  ...  0.850780  0.582996  1.000000\n",
              "2  licensed_car2          500           314  ...  0.697452  0.230000  0.828025\n",
              "3  licensed_car3          500           469  ...  0.667377  0.718000  0.765458\n",
              "4  licensed_car4         1001           563  ...  0.390764  0.865135  0.984014\n",
              "\n",
              "[5 rows x 7 columns]"
            ]
          },
          "metadata": {
            "tags": []
          },
          "execution_count": 12
        }
      ]
    },
    {
      "cell_type": "code",
      "metadata": {
        "id": "MCp2C4lpPyLZ"
      },
      "source": [
        "images=[]\n",
        "\n",
        "for index,row in df.iterrows():\n",
        "    \n",
        "    #centre X\n",
        "    c_x=(row['top_x']+row['bottom_x'])/2\n",
        "    \n",
        "    #centre Y\n",
        "    c_y=(row['top_y']+row['bottom_y'])/2\n",
        "    \n",
        "    #width\n",
        "    w=row['bottom_x']-row['top_x']\n",
        "    \n",
        "    #height\n",
        "    h=row['bottom_y']-row['top_y']\n",
        "    \n",
        "    image_name=row['image_name']\n",
        "    \n",
        "    image_path=f'{PATH}/images/{image_name}.jpeg'\n",
        "    label_path=f'{PATH}/labels/{image_name}.txt'\n",
        "    \n",
        "    #adding image path to list\n",
        "    images.append(image_path)\n",
        "    \n",
        "    #creating label text file\n",
        "    f=open(label_path,'w')\n",
        "    \n",
        "    #writing values in the yolov5 format\n",
        "    f.write(f'0 {c_x} {c_y} {w} {h}')\n",
        "    \n",
        "    f.close()"
      ],
      "execution_count": 13,
      "outputs": []
    },
    {
      "cell_type": "code",
      "metadata": {
        "id": "LNYmYLgiPyLZ"
      },
      "source": [
        "#Total images=236\n",
        "#splitting dataset into 75:25 ratio\n",
        "train=images[0:178]\n",
        "val=images[178:]"
      ],
      "execution_count": 19,
      "outputs": []
    },
    {
      "cell_type": "code",
      "metadata": {
        "id": "CCO5l2TOPyLa"
      },
      "source": [
        "#method to write list to a text file \n",
        "def write_list_to_txt(lst,file_name):\n",
        "    f=open(file_name,'w')\n",
        "    for r in lst:\n",
        "        f.write(r+\"\\n\")\n",
        "    f.close()"
      ],
      "execution_count": 20,
      "outputs": []
    },
    {
      "cell_type": "code",
      "metadata": {
        "id": "7KTJ71NCPyLa"
      },
      "source": [
        "write_list_to_txt(train,f'{PATH}/train.txt')\n",
        "\n",
        "write_list_to_txt(val,f'{PATH}/val.txt')"
      ],
      "execution_count": 21,
      "outputs": []
    },
    {
      "cell_type": "code",
      "metadata": {
        "id": "hD2S_nUdPyLa"
      },
      "source": [
        ""
      ],
      "execution_count": null,
      "outputs": []
    }
  ]
}