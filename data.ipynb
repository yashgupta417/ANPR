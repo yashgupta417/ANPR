{
 "cells": [
  {
   "cell_type": "code",
   "execution_count": 21,
   "metadata": {},
   "outputs": [],
   "source": [
    "import pandas as pd\n",
    "import numpy as np"
   ]
  },
  {
   "cell_type": "code",
   "execution_count": 22,
   "metadata": {},
   "outputs": [],
   "source": [
    "PATH='C:/Users/HP/Desktop/ML/Number plate recogniton system/indian-cars-dataset'\n",
    "df=pd.read_csv(f'{PATH}/annotations.csv')"
   ]
  },
  {
   "cell_type": "code",
   "execution_count": 23,
   "metadata": {},
   "outputs": [
    {
     "data": {
      "text/html": [
       "<div>\n",
       "<style scoped>\n",
       "    .dataframe tbody tr th:only-of-type {\n",
       "        vertical-align: middle;\n",
       "    }\n",
       "\n",
       "    .dataframe tbody tr th {\n",
       "        vertical-align: top;\n",
       "    }\n",
       "\n",
       "    .dataframe thead th {\n",
       "        text-align: right;\n",
       "    }\n",
       "</style>\n",
       "<table border=\"1\" class=\"dataframe\">\n",
       "  <thead>\n",
       "    <tr style=\"text-align: right;\">\n",
       "      <th></th>\n",
       "      <th>image_name</th>\n",
       "      <th>image_width</th>\n",
       "      <th>image_height</th>\n",
       "      <th>top_x</th>\n",
       "      <th>top_y</th>\n",
       "      <th>bottom_x</th>\n",
       "      <th>bottom_y</th>\n",
       "    </tr>\n",
       "  </thead>\n",
       "  <tbody>\n",
       "    <tr>\n",
       "      <th>0</th>\n",
       "      <td>licensed_car0</td>\n",
       "      <td>806</td>\n",
       "      <td>466</td>\n",
       "      <td>0.722084</td>\n",
       "      <td>0.587983</td>\n",
       "      <td>0.868486</td>\n",
       "      <td>0.688841</td>\n",
       "    </tr>\n",
       "    <tr>\n",
       "      <th>1</th>\n",
       "      <td>licensed_car1</td>\n",
       "      <td>494</td>\n",
       "      <td>449</td>\n",
       "      <td>0.161943</td>\n",
       "      <td>0.850780</td>\n",
       "      <td>0.582996</td>\n",
       "      <td>1.000000</td>\n",
       "    </tr>\n",
       "    <tr>\n",
       "      <th>2</th>\n",
       "      <td>licensed_car2</td>\n",
       "      <td>500</td>\n",
       "      <td>314</td>\n",
       "      <td>0.082000</td>\n",
       "      <td>0.697452</td>\n",
       "      <td>0.230000</td>\n",
       "      <td>0.828025</td>\n",
       "    </tr>\n",
       "    <tr>\n",
       "      <th>3</th>\n",
       "      <td>licensed_car3</td>\n",
       "      <td>500</td>\n",
       "      <td>469</td>\n",
       "      <td>0.434000</td>\n",
       "      <td>0.667377</td>\n",
       "      <td>0.718000</td>\n",
       "      <td>0.765458</td>\n",
       "    </tr>\n",
       "    <tr>\n",
       "      <th>4</th>\n",
       "      <td>licensed_car4</td>\n",
       "      <td>1001</td>\n",
       "      <td>563</td>\n",
       "      <td>0.208791</td>\n",
       "      <td>0.390764</td>\n",
       "      <td>0.865135</td>\n",
       "      <td>0.984014</td>\n",
       "    </tr>\n",
       "  </tbody>\n",
       "</table>\n",
       "</div>"
      ],
      "text/plain": [
       "      image_name  image_width  image_height     top_x     top_y  bottom_x  \\\n",
       "0  licensed_car0          806           466  0.722084  0.587983  0.868486   \n",
       "1  licensed_car1          494           449  0.161943  0.850780  0.582996   \n",
       "2  licensed_car2          500           314  0.082000  0.697452  0.230000   \n",
       "3  licensed_car3          500           469  0.434000  0.667377  0.718000   \n",
       "4  licensed_car4         1001           563  0.208791  0.390764  0.865135   \n",
       "\n",
       "   bottom_y  \n",
       "0  0.688841  \n",
       "1  1.000000  \n",
       "2  0.828025  \n",
       "3  0.765458  \n",
       "4  0.984014  "
      ]
     },
     "execution_count": 23,
     "metadata": {},
     "output_type": "execute_result"
    }
   ],
   "source": [
    "df.head()"
   ]
  },
  {
   "cell_type": "code",
   "execution_count": 26,
   "metadata": {},
   "outputs": [],
   "source": [
    "for index,row in df.iterrows():\n",
    "    \n",
    "    #centre X\n",
    "    c_x=(row['top_x']+row['bottom_x'])/2\n",
    "    \n",
    "    #centre Y\n",
    "    c_y=(row['top_y']+row['bottom_y'])/2\n",
    "    \n",
    "    #width\n",
    "    w=row['bottom_x']-row['top_x']\n",
    "    \n",
    "    #height\n",
    "    h=row['bottom_y']-row['top_y']\n",
    "    \n",
    "    image_name=row['image_name']\n",
    "    \n",
    "    #creating label text file\n",
    "    f=open(f'{PATH}/labels/{image_name}.txt','w')\n",
    "    \n",
    "    #writing values in the yolov5 format\n",
    "    f.write(f'{c_x} {c_y} {w} {h}')\n",
    "    \n",
    "    f.close()"
   ]
  },
  {
   "cell_type": "code",
   "execution_count": null,
   "metadata": {},
   "outputs": [],
   "source": []
  }
 ],
 "metadata": {
  "kernelspec": {
   "display_name": "Python 3",
   "language": "python",
   "name": "python3"
  },
  "language_info": {
   "codemirror_mode": {
    "name": "ipython",
    "version": 3
   },
   "file_extension": ".py",
   "mimetype": "text/x-python",
   "name": "python",
   "nbconvert_exporter": "python",
   "pygments_lexer": "ipython3",
   "version": "3.8.5"
  }
 },
 "nbformat": 4,
 "nbformat_minor": 4
}
