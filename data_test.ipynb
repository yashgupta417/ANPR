{
 "cells": [
  {
   "cell_type": "code",
   "execution_count": 1,
   "metadata": {},
   "outputs": [],
   "source": [
    "import numpy as np"
   ]
  },
  {
   "cell_type": "code",
   "execution_count": 11,
   "metadata": {},
   "outputs": [],
   "source": [
    "PATH='./random-cars-dataset/bounding_boxes/'\n",
    "import os\n",
    "try:\n",
    "    from PIL import Image\n",
    "except ImportError:\n",
    "    import Image\n",
    "\n",
    "for f in os.listdir(PATH):\n",
    "    bb=open(os.path.join(PATH,f))\n",
    "    \n",
    "    image_name=f.split('.')[0]\n",
    "    \n",
    "    row=bb.readline().split(' ')\n",
    "    \n",
    "    row=[int(x) for x in row]\n",
    "    \n",
    "    width,height=Image.open(f'./random-cars-dataset/images/{image_name}.png').size\n",
    "    \n",
    "    #centre X\n",
    "    c_x=(row[1]+row[3])/2\n",
    "    c_x/=width\n",
    "    \n",
    "    #centre Y\n",
    "    c_y=(row[2]+row[4])/2\n",
    "    c_y/=height\n",
    "    \n",
    "    #width\n",
    "    w=row[3]-row[1]\n",
    "    w/=width\n",
    "    \n",
    "    #height\n",
    "    h=row[4]-row[2]\n",
    "    h/=height\n",
    "\n",
    "    \n",
    "\n",
    "    label_path=f'./random-cars-dataset/labels/{image_name}.txt'\n",
    "    \n",
    "    #creating label text file\n",
    "    f1=open(label_path,'w')\n",
    "    \n",
    "    #writing values in the yolov5 format\n",
    "    f1.write(f'0 {c_x} {c_y} {w} {h}')\n",
    "    \n",
    "    f1.close()\n",
    "    "
   ]
  },
  {
   "cell_type": "code",
   "execution_count": null,
   "metadata": {},
   "outputs": [],
   "source": []
  }
 ],
 "metadata": {
  "kernelspec": {
   "display_name": "Python 3",
   "language": "python",
   "name": "python3"
  },
  "language_info": {
   "codemirror_mode": {
    "name": "ipython",
    "version": 3
   },
   "file_extension": ".py",
   "mimetype": "text/x-python",
   "name": "python",
   "nbconvert_exporter": "python",
   "pygments_lexer": "ipython3",
   "version": "3.8.5"
  }
 },
 "nbformat": 4,
 "nbformat_minor": 4
}
