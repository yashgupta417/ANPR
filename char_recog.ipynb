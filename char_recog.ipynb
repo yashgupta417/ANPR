{
 "cells": [
  {
   "cell_type": "code",
   "execution_count": 20,
   "metadata": {},
   "outputs": [],
   "source": [
    "import numpy as np\n",
    "import pandas as pd\n",
    "import matplotlib.pyplot as plt"
   ]
  },
  {
   "cell_type": "code",
   "execution_count": 32,
   "metadata": {},
   "outputs": [
    {
     "name": "stdout",
     "output_type": "stream",
     "text": [
      "Data Augmentation Done!\n"
     ]
    }
   ],
   "source": [
    "#****************Data augmentation**************#\n",
    "\n",
    "import albumentations as A\n",
    "import cv2\n",
    "PATH='./character_dataset/Training Data'\n",
    "\n",
    "import os\n",
    "\n",
    "#listing all sub directories\n",
    "class_dirs=os.listdir(PATH)\n",
    "\n",
    "\n",
    "def augment(img,path,img_name):\n",
    "    \n",
    "    transforms=[\n",
    "        [A.Blur(blur_limit=(3,3),p=1)],#blur 1\n",
    "        [A.Blur(blur_limit=(5,5),p=1)],#blur 2\n",
    "        [A.Rotate(limit=(0,15),p=1)],#rotate the image clockwise\n",
    "        [A.Rotate(limit=(-15,0),p=1)],#rotate the image anti-clockwise\n",
    "        [A.Blur(blur_limit=(3,3),p=1),A.Rotate(limit=(-15,0),p=1)],#rotate anti-clockwise and blurr\n",
    "        [A.Blur(blur_limit=(3,3),p=1),A.Rotate(limit=(0,15),p=1)],#rotate clockwise and blurr\n",
    "    ]\n",
    "    \n",
    "    \n",
    "    for i,t in enumerate(transforms):\n",
    "        \n",
    "        #defining transformation\n",
    "        transform=A.Compose(t)\n",
    "        \n",
    "        #applying transformation\n",
    "        aug_img=transform(image=img)['image']\n",
    "        \n",
    "        #augmented image name\n",
    "        aug_img_name=f'{path}/{img_name}_aug_{i}.jpg'\n",
    "        \n",
    "        #saving file\n",
    "        cv2.imwrite(aug_img_name,np.float32(aug_img))\n",
    "\n",
    "        \n",
    "#iterating over all directories\n",
    "for d in class_dirs:\n",
    "    \n",
    "    #listing all images in sub directory\n",
    "    files=os.listdir(os.path.join(PATH,d))\n",
    "    \n",
    "    #iterating over all images\n",
    "    for file in files:\n",
    "        \n",
    "        #reading image\n",
    "        img=cv2.imread(os.path.join(PATH,d,file))\n",
    "        img=cv2.cvtColor(img,cv2.COLOR_BGR2RGB)\n",
    "        \n",
    "        img_name=file.split('.')[0]\n",
    "        \n",
    "        #apply data augmentation\n",
    "        augment(img,os.path.join(PATH,d),img_name)\n",
    "        \n",
    "print(\"Data Augmentation Done!\")\n",
    "        \n",
    "def delete_augmentations():\n",
    "    #iterating over all directories\n",
    "    for d in class_dirs:\n",
    "\n",
    "        #listing all images in sub directory\n",
    "        files=os.listdir(os.path.join(PATH,d))\n",
    "\n",
    "        #iterating over all images\n",
    "        for file in files:\n",
    "            file_path=os.path.join(PATH,d,file)\n",
    "            if \"aug\" in file:\n",
    "                os.remove(file_path)\n",
    "                \n",
    "                "
   ]
  },
  {
   "cell_type": "code",
   "execution_count": 33,
   "metadata": {},
   "outputs": [
    {
     "name": "stdout",
     "output_type": "stream",
     "text": [
      "Augmented data deleted\n"
     ]
    }
   ],
   "source": [
    "#***************************DANGER**************************#\n",
    "#****************For deleting augmentations*****************#\n",
    "delete_augmentations()\n",
    "print(\"Augmented data deleted\")"
   ]
  },
  {
   "cell_type": "code",
   "execution_count": 14,
   "metadata": {},
   "outputs": [
    {
     "name": "stdout",
     "output_type": "stream",
     "text": [
      "864\n"
     ]
    }
   ],
   "source": [
    "from itertools import chain\n",
    "\n",
    "\n",
    "X=[]\n",
    "Y=[]\n",
    "\n",
    "#iterating over all directories\n",
    "for d in class_dirs:\n",
    "    \n",
    "    #listing all images in sub directory\n",
    "    files=os.listdir(os.path.join(PATH,d))\n",
    "    \n",
    "    #iterating over all images\n",
    "    for file in files:\n",
    "        \n",
    "        #reading image\n",
    "        img=cv2.imread(os.path.join(PATH,d,file))\n",
    "        \n",
    "        #binarizing image\n",
    "        img_gray=cv2.cvtColor(img, cv2.COLOR_BGR2GRAY)\n",
    "        img_bw=cv2.threshold(img_gray, 0, 255, cv2.THRESH_OTSU | cv2.THRESH_BINARY_INV)[1]\n",
    "        \n",
    "        #flattening image and appending it\n",
    "        X.append(list(chain.from_iterable(img_bw)))\n",
    "        \n",
    "        #appending label\n",
    "        Y.append(file.split('_')[1])\n",
    "        \n",
    "print(len(Y))"
   ]
  },
  {
   "cell_type": "code",
   "execution_count": 15,
   "metadata": {},
   "outputs": [
    {
     "name": "stdout",
     "output_type": "stream",
     "text": [
      "no of images: 864\n",
      "no of dimensions: 784\n"
     ]
    }
   ],
   "source": [
    "print(f\"no of images: {len(X)}\")\n",
    "print(f\"no of dimensions: {len(X[0])}\")"
   ]
  },
  {
   "cell_type": "code",
   "execution_count": 16,
   "metadata": {},
   "outputs": [
    {
     "data": {
      "text/plain": [
       "<matplotlib.image.AxesImage at 0x1cc018ad970>"
      ]
     },
     "execution_count": 16,
     "metadata": {},
     "output_type": "execute_result"
    },
    {
     "data": {
      "image/png": "[encoded data removed]",
      "text/plain": [
       "<Figure size 432x288 with 1 Axes>"
      ]
     },
     "metadata": {
      "needs_background": "light"
     },
     "output_type": "display_data"
    }
   ],
   "source": [
    "x0=np.reshape(X[0],(-1,28))\n",
    "plt.imshow(x0, cmap=\"gray\")"
   ]
  },
  {
   "cell_type": "code",
   "execution_count": 17,
   "metadata": {},
   "outputs": [],
   "source": [
    "#converting to numpy array\n",
    "X=np.array(X)\n",
    "\n",
    "#normalising X\n",
    "X=X/255"
   ]
  },
  {
   "cell_type": "code",
   "execution_count": 18,
   "metadata": {},
   "outputs": [],
   "source": [
    "from keras.utils import np_utils\n",
    "\n",
    "\n",
    "#converting Y[i] to int values: 0-9 and 10-35(A-Z)\n",
    "for i in range(0,len(Y)):\n",
    "    if Y[i].isalpha():\n",
    "        Y[i]=ord(Y[i])-ord('A')+10\n",
    "    else:\n",
    "        Y[i]=int(Y[i])\n",
    "\n",
    "#one hot encoding\n",
    "Y=np_utils.to_categorical(Y,36)"
   ]
  },
  {
   "cell_type": "code",
   "execution_count": 23,
   "metadata": {},
   "outputs": [
    {
     "data": {
      "text/plain": [
       "array([1., 0., 0., 0., 0., 0., 0., 0., 0., 0., 0., 0., 0., 0., 0., 0., 0.,\n",
       "       0., 0., 0., 0., 0., 0., 0., 0., 0., 0., 0., 0., 0., 0., 0., 0., 0.,\n",
       "       0., 0.], dtype=float32)"
      ]
     },
     "execution_count": 23,
     "metadata": {},
     "output_type": "execute_result"
    }
   ],
   "source": [
    "#converting to numpy array\n",
    "Y=np.array(Y)\n",
    "\n",
    "Y[0]"
   ]
  },
  {
   "cell_type": "code",
   "execution_count": 24,
   "metadata": {},
   "outputs": [
    {
     "name": "stdout",
     "output_type": "stream",
     "text": [
      "(864, 784)\n",
      "(864, 36)\n"
     ]
    }
   ],
   "source": [
    "print(X.shape)\n",
    "print(Y.shape)"
   ]
  },
  {
   "cell_type": "code",
   "execution_count": 26,
   "metadata": {},
   "outputs": [],
   "source": [
    "from keras.models import Sequential\n",
    "from keras.layers import Dense,Activation"
   ]
  },
  {
   "cell_type": "code",
   "execution_count": 27,
   "metadata": {},
   "outputs": [],
   "source": [
    "output_dim=36\n",
    "input_dim=784\n",
    "batch_size=32\n",
    "epochs=20"
   ]
  },
  {
   "cell_type": "code",
   "execution_count": 28,
   "metadata": {},
   "outputs": [],
   "source": [
    "#Using Perceptron instead of CNN or multi-layer-perceptrons since data size is really small (864 images)\n",
    "\n",
    "model=Sequential()\n",
    "model.add(Dense(output_dim,input_dim=input_dim,activation='softmax'))"
   ]
  },
  {
   "cell_type": "code",
   "execution_count": 29,
   "metadata": {},
   "outputs": [],
   "source": [
    "model.compile(optimizer='adam',loss='categorical_crossentropy',metrics=['accuracy'])"
   ]
  },
  {
   "cell_type": "code",
   "execution_count": 31,
   "metadata": {},
   "outputs": [
    {
     "name": "stdout",
     "output_type": "stream",
     "text": [
      "648\n",
      "216\n"
     ]
    }
   ],
   "source": [
    "from sklearn.model_selection import train_test_split\n",
    "\n",
    "X_train, X_test, Y_train, Y_test = train_test_split(X, Y, test_size=0.25, random_state=99)\n",
    "\n",
    "print(len(X_train))\n",
    "print(len(X_test))"
   ]
  },
  {
   "cell_type": "code",
   "execution_count": 32,
   "metadata": {},
   "outputs": [
    {
     "name": "stdout",
     "output_type": "stream",
     "text": [
      "Epoch 1/20\n",
      "21/21 [==============================] - 2s 31ms/step - loss: 3.6624 - accuracy: 0.1184 - val_loss: 2.1965 - val_accuracy: 0.5509\n",
      "Epoch 2/20\n",
      "21/21 [==============================] - 0s 3ms/step - loss: 1.7498 - accuracy: 0.6952 - val_loss: 1.2001 - val_accuracy: 0.8194\n",
      "Epoch 3/20\n",
      "21/21 [==============================] - 0s 3ms/step - loss: 0.9258 - accuracy: 0.8886 - val_loss: 0.7524 - val_accuracy: 0.8889\n",
      "Epoch 4/20\n",
      "21/21 [==============================] - 0s 3ms/step - loss: 0.5755 - accuracy: 0.9374 - val_loss: 0.5407 - val_accuracy: 0.9213\n",
      "Epoch 5/20\n",
      "21/21 [==============================] - 0s 3ms/step - loss: 0.3956 - accuracy: 0.9571 - val_loss: 0.4469 - val_accuracy: 0.9306\n",
      "Epoch 6/20\n",
      "21/21 [==============================] - 0s 3ms/step - loss: 0.2961 - accuracy: 0.9783 - val_loss: 0.3672 - val_accuracy: 0.9491\n",
      "Epoch 7/20\n",
      "21/21 [==============================] - 0s 3ms/step - loss: 0.2265 - accuracy: 0.9795 - val_loss: 0.3250 - val_accuracy: 0.9491\n",
      "Epoch 8/20\n",
      "21/21 [==============================] - 0s 3ms/step - loss: 0.1894 - accuracy: 0.9839 - val_loss: 0.2925 - val_accuracy: 0.9583\n",
      "Epoch 9/20\n",
      "21/21 [==============================] - 0s 3ms/step - loss: 0.1594 - accuracy: 0.9929 - val_loss: 0.2633 - val_accuracy: 0.9630\n",
      "Epoch 10/20\n",
      "21/21 [==============================] - 0s 3ms/step - loss: 0.1345 - accuracy: 0.9974 - val_loss: 0.2442 - val_accuracy: 0.9630\n",
      "Epoch 11/20\n",
      "21/21 [==============================] - 0s 3ms/step - loss: 0.1159 - accuracy: 0.9898 - val_loss: 0.2246 - val_accuracy: 0.9722\n",
      "Epoch 12/20\n",
      "21/21 [==============================] - 0s 3ms/step - loss: 0.1097 - accuracy: 0.9941 - val_loss: 0.2209 - val_accuracy: 0.9630\n",
      "Epoch 13/20\n",
      "21/21 [==============================] - 0s 3ms/step - loss: 0.0930 - accuracy: 0.9924 - val_loss: 0.1976 - val_accuracy: 0.9722\n",
      "Epoch 14/20\n",
      "21/21 [==============================] - 0s 3ms/step - loss: 0.0789 - accuracy: 0.9962 - val_loss: 0.1970 - val_accuracy: 0.9676\n",
      "Epoch 15/20\n",
      "21/21 [==============================] - 0s 4ms/step - loss: 0.0734 - accuracy: 0.9971 - val_loss: 0.1849 - val_accuracy: 0.9630\n",
      "Epoch 16/20\n",
      "21/21 [==============================] - 0s 3ms/step - loss: 0.0744 - accuracy: 0.9980 - val_loss: 0.1756 - val_accuracy: 0.9722\n",
      "Epoch 17/20\n",
      "21/21 [==============================] - 0s 3ms/step - loss: 0.0622 - accuracy: 0.9986 - val_loss: 0.1650 - val_accuracy: 0.9630\n",
      "Epoch 18/20\n",
      "21/21 [==============================] - 0s 3ms/step - loss: 0.0530 - accuracy: 0.9997 - val_loss: 0.1653 - val_accuracy: 0.9769\n",
      "Epoch 19/20\n",
      "21/21 [==============================] - 0s 3ms/step - loss: 0.0541 - accuracy: 0.9974 - val_loss: 0.1659 - val_accuracy: 0.9676\n",
      "Epoch 20/20\n",
      "21/21 [==============================] - 0s 3ms/step - loss: 0.0572 - accuracy: 0.9947 - val_loss: 0.1557 - val_accuracy: 0.9769\n"
     ]
    }
   ],
   "source": [
    "history=model.fit(X_train,Y_train,batch_size=batch_size,epochs=epochs,validation_data=(X_test,Y_test))"
   ]
  },
  {
   "cell_type": "code",
   "execution_count": 35,
   "metadata": {},
   "outputs": [
    {
     "name": "stdout",
     "output_type": "stream",
     "text": [
      "7/7 [==============================] - 0s 998us/step - loss: 0.1557 - accuracy: 0.9769\n",
      "Score 0.15568344295024872\n",
      "Accuracy 0.9768518805503845\n"
     ]
    }
   ],
   "source": [
    "pred=model.evaluate(X_test,Y_test)\n",
    "print(\"Score\",pred[0])\n",
    "print(\"Accuracy\",pred[1])"
   ]
  },
  {
   "cell_type": "code",
   "execution_count": 34,
   "metadata": {},
   "outputs": [],
   "source": [
    "model.save('char_recog_model.h5')"
   ]
  },
  {
   "cell_type": "code",
   "execution_count": 53,
   "metadata": {},
   "outputs": [],
   "source": [
    "def to_label(n):\n",
    "    if n<=9:\n",
    "        return str(n)\n",
    "    \n",
    "    return chr(n-10+ord('A'))"
   ]
  },
  {
   "cell_type": "code",
   "execution_count": 56,
   "metadata": {},
   "outputs": [
    {
     "name": "stdout",
     "output_type": "stream",
     "text": [
      "actual: V\n",
      "pred: V\n"
     ]
    }
   ],
   "source": [
    "pred=model.predict(np.array([X_test[200]]))[0]\n",
    "\n",
    "# Generate arg maxes for prediction\n",
    "actual=np.argmax(Y_test[200])\n",
    "pred = np.argmax(pred)\n",
    "\n",
    "print(f\"actual: {to_label(actual)}\")\n",
    "print(f\"pred: {to_label(pred)}\")"
   ]
  },
  {
   "cell_type": "code",
   "execution_count": null,
   "metadata": {},
   "outputs": [],
   "source": []
  }
 ],
 "metadata": {
  "kernelspec": {
   "display_name": "Python 3",
   "language": "python",
   "name": "python3"
  },
  "language_info": {
   "codemirror_mode": {
    "name": "ipython",
    "version": 3
   },
   "file_extension": ".py",
   "mimetype": "text/x-python",
   "name": "python",
   "nbconvert_exporter": "python",
   "pygments_lexer": "ipython3",
   "version": "3.8.5"
  }
 },
 "nbformat": 4,
 "nbformat_minor": 4
}
