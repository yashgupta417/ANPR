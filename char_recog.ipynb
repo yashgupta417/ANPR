{
  "nbformat": 4,
  "nbformat_minor": 0,
  "metadata": {
    "kernelspec": {
      "display_name": "Python 3",
      "language": "python",
      "name": "python3"
    },
    "language_info": {
      "codemirror_mode": {
        "name": "ipython",
        "version": 3
      },
      "file_extension": ".py",
      "mimetype": "text/x-python",
      "name": "python",
      "nbconvert_exporter": "python",
      "pygments_lexer": "ipython3",
      "version": "3.8.5"
    },
    "colab": {
      "name": "char_recog.ipynb",
      "provenance": []
    },
    "accelerator": "GPU"
  },
  "cells": [
    {
      "cell_type": "code",
      "metadata": {
        "id": "NxSw4RAXddbB"
      },
      "source": [
        "import numpy as np\n",
        "import pandas as pd\n",
        "import matplotlib.pyplot as plt"
      ],
      "execution_count": 4,
      "outputs": []
    },
    {
      "cell_type": "code",
      "metadata": {
        "colab": {
          "base_uri": "https://localhost:8080/"
        },
        "id": "XnNjW3rWdmcg",
        "outputId": "24a949d3-c8fb-48bc-97e9-eaa63fcfbcbe"
      },
      "source": [
        "from google.colab import drive\n",
        "drive.mount('/content/drive')"
      ],
      "execution_count": 5,
      "outputs": [
        {
          "output_type": "stream",
          "text": [
            "Drive already mounted at /content/drive; to attempt to forcibly remount, call drive.mount(\"/content/drive\", force_remount=True).\n"
          ],
          "name": "stdout"
        }
      ]
    },
    {
      "cell_type": "code",
      "metadata": {
        "id": "5kd_mBxkgsTm"
      },
      "source": [
        "#zipping data - will take around 5 minutes\n",
        "folder = '/content/drive/MyDrive/ANPR/character_dataset/'\n",
        "data='Training Data'\n",
        "\n",
        "!(cd \"{folder}\" && zip -r -q data.zip \"{data}\")"
      ],
      "execution_count": null,
      "outputs": []
    },
    {
      "cell_type": "code",
      "metadata": {
        "id": "_VyQBVx_kJnb"
      },
      "source": [
        "#copying zip file and unzipping in colab\n",
        "zip_path='/content/drive/MyDrive/ANPR/character_dataset/data.zip'\n",
        "\n",
        "!cp \"{zip_path}\" .\n",
        "!unzip -q data.zip\n",
        "!rm data.zip"
      ],
      "execution_count": 7,
      "outputs": []
    },
    {
      "cell_type": "code",
      "metadata": {
        "colab": {
          "base_uri": "https://localhost:8080/"
        },
        "id": "w6styTnbddbH",
        "outputId": "181d8751-2ce4-440b-e6d0-a0fd6366cd78"
      },
      "source": [
        "#****************Data augmentation**************#\n",
        "\n",
        "import albumentations as A\n",
        "import cv2\n",
        "PATH='/content/Training Data'\n",
        "\n",
        "import os\n",
        "\n",
        "#listing all sub directories\n",
        "class_dirs=os.listdir(PATH)\n",
        "\n",
        "\n",
        "def augment(img,path,img_name):\n",
        "    \n",
        "    transforms=[\n",
        "        [A.Blur(blur_limit=(3,3),p=1)],#blur 1\n",
        "        [A.Blur(blur_limit=(5,5),p=1)],#blur 2\n",
        "        [A.Rotate(limit=(0,15),p=1)],#rotate the image clockwise\n",
        "        [A.Rotate(limit=(-15,0),p=1)],#rotate the image anti-clockwise\n",
        "        [A.Blur(blur_limit=(3,3),p=1),A.Rotate(limit=(-15,0),p=1)],#rotate anti-clockwise and blurr\n",
        "        [A.Blur(blur_limit=(3,3),p=1),A.Rotate(limit=(0,15),p=1)],#rotate clockwise and blurr\n",
        "    ]\n",
        "    \n",
        "    \n",
        "    for i,t in enumerate(transforms):\n",
        "        \n",
        "        #defining transformation\n",
        "        transform=A.Compose(t)\n",
        "        \n",
        "        #applying transformation\n",
        "        aug_img=transform(image=img)['image']\n",
        "        \n",
        "        #augmented image name\n",
        "        aug_img_name=f'{path}/{img_name}_aug_{i}.jpg'\n",
        "        \n",
        "        #saving file\n",
        "        cv2.imwrite(aug_img_name,np.float32(aug_img))\n",
        "\n",
        "        \n",
        "#iterating over all directories\n",
        "for d in class_dirs:\n",
        "    \n",
        "    #listing all images in sub directory\n",
        "    files=os.listdir(os.path.join(PATH,d))\n",
        "    \n",
        "    #iterating over all images\n",
        "    for file in files:\n",
        "        \n",
        "        #reading image\n",
        "        img=cv2.imread(os.path.join(PATH,d,file))\n",
        "        img=cv2.cvtColor(img,cv2.COLOR_BGR2RGB)\n",
        "        \n",
        "        img_name=file.split('.')[0]\n",
        "        \n",
        "        #apply data augmentation\n",
        "        augment(img,os.path.join(PATH,d),img_name)\n",
        "\n",
        "    print(f'{d} augmented, number of images: ',len(os.listdir(os.path.join(PATH,d))))\n",
        "        \n",
        "print(\"Data Augmentation Done!\")\n",
        "        \n",
        "def delete_augmentations():\n",
        "    #iterating over all directories\n",
        "    for d in class_dirs:\n",
        "\n",
        "        #listing all images in sub directory\n",
        "        files=os.listdir(os.path.join(PATH,d))\n",
        "\n",
        "        #iterating over all images\n",
        "        for file in files:\n",
        "            file_path=os.path.join(PATH,d,file)\n",
        "            if \"aug\" in file:\n",
        "                os.remove(file_path)\n",
        "                \n",
        "                "
      ],
      "execution_count": 36,
      "outputs": [
        {
          "output_type": "stream",
          "text": [
            "5 augmented, number of images:  168\n",
            "class_K augmented, number of images:  168\n",
            "class_E augmented, number of images:  168\n",
            "class_A augmented, number of images:  168\n",
            "class_H augmented, number of images:  168\n",
            "class_W augmented, number of images:  168\n",
            "1 augmented, number of images:  168\n",
            "class_Q augmented, number of images:  168\n",
            "class_V augmented, number of images:  168\n",
            "class_R augmented, number of images:  168\n",
            "7 augmented, number of images:  168\n",
            "class_C augmented, number of images:  168\n",
            "class_M augmented, number of images:  175\n",
            "class_X augmented, number of images:  168\n",
            "class_I augmented, number of images:  168\n",
            "class_T augmented, number of images:  168\n",
            "3 augmented, number of images:  168\n",
            "class_Y augmented, number of images:  168\n",
            "class_Z augmented, number of images:  168\n",
            "class_F augmented, number of images:  168\n",
            "class_O augmented, number of images:  168\n",
            "0 augmented, number of images:  168\n",
            "6 augmented, number of images:  168\n",
            "class_P augmented, number of images:  168\n",
            "class_D augmented, number of images:  168\n",
            "class_S augmented, number of images:  168\n",
            "8 augmented, number of images:  168\n",
            "class_N augmented, number of images:  168\n",
            "4 augmented, number of images:  168\n",
            "class_J augmented, number of images:  168\n",
            "9 augmented, number of images:  168\n",
            "class_G augmented, number of images:  168\n",
            "class_U augmented, number of images:  168\n",
            "2 augmented, number of images:  168\n",
            "class_B augmented, number of images:  168\n",
            "class_L augmented, number of images:  168\n",
            "Data Augmentation Done!\n"
          ],
          "name": "stdout"
        }
      ]
    },
    {
      "cell_type": "code",
      "metadata": {
        "id": "zGlw1--wddbJ"
      },
      "source": [
        "#***************************DANGER**************************#\n",
        "#****************For deleting augmentations*****************#\n",
        "\n",
        "delete_augmentations()\n",
        "print(\"Augmented data deleted\")"
      ],
      "execution_count": null,
      "outputs": []
    },
    {
      "cell_type": "code",
      "metadata": {
        "colab": {
          "base_uri": "https://localhost:8080/"
        },
        "id": "xwAzbpK9ddbJ",
        "outputId": "70911b08-609a-4c4a-ba9a-cff99117c8d7"
      },
      "source": [
        "from itertools import chain\n",
        "\n",
        "\n",
        "X=[]\n",
        "Y=[]\n",
        "\n",
        "#iterating over all directories\n",
        "for d in class_dirs:\n",
        "    \n",
        "    #listing all images in sub directory\n",
        "    files=os.listdir(os.path.join(PATH,d))\n",
        "    \n",
        "    #iterating over all images\n",
        "    for file in files:\n",
        "        \n",
        "        #reading image\n",
        "        img=cv2.imread(os.path.join(PATH,d,file))\n",
        "        \n",
        "        #binarizing image\n",
        "        img_gray=cv2.cvtColor(img, cv2.COLOR_BGR2GRAY)\n",
        "        img_bw=cv2.threshold(img_gray, 0, 255, cv2.THRESH_OTSU | cv2.THRESH_BINARY_INV)[1]\n",
        "        \n",
        "        #flattening image and appending it\n",
        "        X.append(list(chain.from_iterable(img_bw)))\n",
        "        \n",
        "        #appending label\n",
        "        Y.append(file.split('_')[1])\n",
        "        \n",
        "print(len(Y))"
      ],
      "execution_count": 37,
      "outputs": [
        {
          "output_type": "stream",
          "text": [
            "6055\n"
          ],
          "name": "stdout"
        }
      ]
    },
    {
      "cell_type": "code",
      "metadata": {
        "colab": {
          "base_uri": "https://localhost:8080/"
        },
        "id": "I9iWTaE5ddbK",
        "outputId": "e942284e-9d1c-4702-90e8-04b9344dbed0"
      },
      "source": [
        "print(f\"no of images: {len(X)}\")\n",
        "print(f\"no of dimensions: {len(X[0])}\")"
      ],
      "execution_count": 38,
      "outputs": [
        {
          "output_type": "stream",
          "text": [
            "no of images: 6055\n",
            "no of dimensions: 784\n"
          ],
          "name": "stdout"
        }
      ]
    },
    {
      "cell_type": "code",
      "metadata": {
        "colab": {
          "base_uri": "https://localhost:8080/",
          "height": 282
        },
        "id": "YdfuVt4QddbK",
        "outputId": "ca3fa7bf-4a5d-4523-b855-67f8dc04a04e"
      },
      "source": [
        "x0=np.reshape(X[0],(-1,28))\n",
        "plt.imshow(x0, cmap=\"gray\")"
      ],
      "execution_count": 39,
      "outputs": [
        {
          "output_type": "execute_result",
          "data": {
            "text/plain": [
              "<matplotlib.image.AxesImage at 0x7fba21fc3a50>"
            ]
          },
          "metadata": {
            "tags": []
          },
          "execution_count": 39
        },
        {
          "output_type": "display_data",
          "data": {
            "image/png": "[encoded data removed]",
            "text/plain": [
              "<Figure size 432x288 with 1 Axes>"
            ]
          },
          "metadata": {
            "tags": [],
            "needs_background": "light"
          }
        }
      ]
    },
    {
      "cell_type": "code",
      "metadata": {
        "id": "s_GiRH-eddbL"
      },
      "source": [
        "#converting to numpy array\n",
        "X=np.array(X)\n",
        "\n",
        "#normalising X\n",
        "X=X/255\n",
        "\n",
        "#reshaping to (28,28,1)\n",
        "X=X.reshape(len(X),28,28,1)"
      ],
      "execution_count": 40,
      "outputs": []
    },
    {
      "cell_type": "code",
      "metadata": {
        "id": "2sZ63fCoddbL"
      },
      "source": [
        "from keras.utils import np_utils\n",
        "\n",
        "\n",
        "#converting Y[i] to int values: 0-9 and 10-35(A-Z)\n",
        "for i in range(0,len(Y)):\n",
        "    if Y[i].isalpha():\n",
        "        Y[i]=ord(Y[i])-ord('A')+10\n",
        "    else:\n",
        "        Y[i]=int(Y[i])\n",
        "\n",
        "#one hot encoding\n",
        "Y=np_utils.to_categorical(Y,36)\n",
        "\n",
        "#converting to numpy array\n",
        "Y=np.array(Y)"
      ],
      "execution_count": 41,
      "outputs": []
    },
    {
      "cell_type": "code",
      "metadata": {
        "colab": {
          "base_uri": "https://localhost:8080/"
        },
        "id": "zx2eVYZEddbM",
        "outputId": "59f87716-b539-4cbb-f492-11a93da20f2d"
      },
      "source": [
        "print(X.shape)\n",
        "print(Y.shape)"
      ],
      "execution_count": 42,
      "outputs": [
        {
          "output_type": "stream",
          "text": [
            "(6055, 28, 28, 1)\n",
            "(6055, 36)\n"
          ],
          "name": "stdout"
        }
      ]
    },
    {
      "cell_type": "code",
      "metadata": {
        "id": "TiMY0SnIddbM"
      },
      "source": [
        "from keras.models import Sequential\n",
        "from keras.layers import Dense,Flatten\n",
        "from keras.layers.convolutional import Conv2D,MaxPooling2D"
      ],
      "execution_count": 43,
      "outputs": []
    },
    {
      "cell_type": "code",
      "metadata": {
        "id": "n7VVmQguddbM"
      },
      "source": [
        "width=28\n",
        "height=28\n",
        "batch_size=64\n",
        "epochs=30\n",
        "model=Sequential()\n",
        "#Conv Layer-1\n",
        "model.add(Conv2D(6,kernel_size=5,input_shape=(width,height,1),data_format='channels_last',padding='same',activation='relu'))\n",
        "\n",
        "#Max Pool Layer-1\n",
        "model.add(MaxPooling2D(pool_size=(2,2),strides=(2,2)))\n",
        "\n",
        "#Conv Layer-2\n",
        "model.add(Conv2D(16,kernel_size=5,activation='relu'))\n",
        "\n",
        "#Max Pool Layer-2\n",
        "model.add(MaxPooling2D(pool_size=(2,2),strides=(2,2)))\n",
        "\n",
        "#Conv Layer-3\n",
        "model.add(Conv2D(120,kernel_size=5,activation='relu'))\n",
        "model.add(Flatten())\n",
        "\n",
        "#Fully Connected Layer-1\n",
        "model.add(Dense(84,activation='relu'))\n",
        "\n",
        "#Softmax\n",
        "model.add(Dense(36,activation='softmax'))"
      ],
      "execution_count": 49,
      "outputs": []
    },
    {
      "cell_type": "code",
      "metadata": {
        "colab": {
          "base_uri": "https://localhost:8080/"
        },
        "id": "GmmK6M386beK",
        "outputId": "f9e485dd-4685-45ab-d326-cb28e50eefa3"
      },
      "source": [
        "model.summary()"
      ],
      "execution_count": 50,
      "outputs": [
        {
          "output_type": "stream",
          "text": [
            "Model: \"sequential_2\"\n",
            "_________________________________________________________________\n",
            "Layer (type)                 Output Shape              Param #   \n",
            "=================================================================\n",
            "conv2d_6 (Conv2D)            (None, 28, 28, 6)         156       \n",
            "_________________________________________________________________\n",
            "max_pooling2d_4 (MaxPooling2 (None, 14, 14, 6)         0         \n",
            "_________________________________________________________________\n",
            "conv2d_7 (Conv2D)            (None, 10, 10, 16)        2416      \n",
            "_________________________________________________________________\n",
            "max_pooling2d_5 (MaxPooling2 (None, 5, 5, 16)          0         \n",
            "_________________________________________________________________\n",
            "conv2d_8 (Conv2D)            (None, 1, 1, 120)         48120     \n",
            "_________________________________________________________________\n",
            "flatten_2 (Flatten)          (None, 120)               0         \n",
            "_________________________________________________________________\n",
            "dense_4 (Dense)              (None, 84)                10164     \n",
            "_________________________________________________________________\n",
            "dense_5 (Dense)              (None, 36)                3060      \n",
            "=================================================================\n",
            "Total params: 63,916\n",
            "Trainable params: 63,916\n",
            "Non-trainable params: 0\n",
            "_________________________________________________________________\n"
          ],
          "name": "stdout"
        }
      ]
    },
    {
      "cell_type": "code",
      "metadata": {
        "id": "Qq2HQVtIddbN"
      },
      "source": [
        "model.compile(optimizer='adam',loss='categorical_crossentropy',metrics=['accuracy'])"
      ],
      "execution_count": 51,
      "outputs": []
    },
    {
      "cell_type": "code",
      "metadata": {
        "colab": {
          "base_uri": "https://localhost:8080/"
        },
        "id": "mwVTAvJlddbN",
        "outputId": "d66d7948-064f-4df6-c98f-9a7c0ee94334"
      },
      "source": [
        "from sklearn.model_selection import train_test_split\n",
        "\n",
        "X_train, X_test, Y_train, Y_test = train_test_split(X, Y, test_size=0.25, random_state=99)\n",
        "\n",
        "print(X_train.shape)\n",
        "print(X_test.shape)"
      ],
      "execution_count": 52,
      "outputs": [
        {
          "output_type": "stream",
          "text": [
            "(4541, 28, 28, 1)\n",
            "(1514, 28, 28, 1)\n"
          ],
          "name": "stdout"
        }
      ]
    },
    {
      "cell_type": "code",
      "metadata": {
        "colab": {
          "base_uri": "https://localhost:8080/"
        },
        "id": "SxfA9zC7ddbO",
        "outputId": "4355c88c-ba8f-4eae-9dca-b7d0f9d70f62"
      },
      "source": [
        "history=model.fit(X_train,Y_train,batch_size=batch_size,epochs=epochs,validation_data=(X_test,Y_test))"
      ],
      "execution_count": 53,
      "outputs": [
        {
          "output_type": "stream",
          "text": [
            "Epoch 1/30\n",
            "71/71 [==============================] - 33s 11ms/step - loss: 3.0703 - accuracy: 0.2186 - val_loss: 0.4538 - val_accuracy: 0.8573\n",
            "Epoch 2/30\n",
            "71/71 [==============================] - 0s 5ms/step - loss: 0.3229 - accuracy: 0.9098 - val_loss: 0.1258 - val_accuracy: 0.9683\n",
            "Epoch 3/30\n",
            "71/71 [==============================] - 0s 5ms/step - loss: 0.1065 - accuracy: 0.9684 - val_loss: 0.1182 - val_accuracy: 0.9577\n",
            "Epoch 4/30\n",
            "71/71 [==============================] - 0s 5ms/step - loss: 0.0690 - accuracy: 0.9791 - val_loss: 0.0780 - val_accuracy: 0.9795\n",
            "Epoch 5/30\n",
            "71/71 [==============================] - 0s 5ms/step - loss: 0.0637 - accuracy: 0.9775 - val_loss: 0.0685 - val_accuracy: 0.9802\n",
            "Epoch 6/30\n",
            "71/71 [==============================] - 0s 5ms/step - loss: 0.0706 - accuracy: 0.9717 - val_loss: 0.0593 - val_accuracy: 0.9749\n",
            "Epoch 7/30\n",
            "71/71 [==============================] - 0s 5ms/step - loss: 0.0427 - accuracy: 0.9818 - val_loss: 0.0569 - val_accuracy: 0.9789\n",
            "Epoch 8/30\n",
            "71/71 [==============================] - 0s 5ms/step - loss: 0.0350 - accuracy: 0.9873 - val_loss: 0.0814 - val_accuracy: 0.9709\n",
            "Epoch 9/30\n",
            "71/71 [==============================] - 0s 5ms/step - loss: 0.0359 - accuracy: 0.9857 - val_loss: 0.0913 - val_accuracy: 0.9637\n",
            "Epoch 10/30\n",
            "71/71 [==============================] - 0s 5ms/step - loss: 0.0389 - accuracy: 0.9851 - val_loss: 0.0689 - val_accuracy: 0.9742\n",
            "Epoch 11/30\n",
            "71/71 [==============================] - 0s 5ms/step - loss: 0.0337 - accuracy: 0.9850 - val_loss: 0.0880 - val_accuracy: 0.9690\n",
            "Epoch 12/30\n",
            "71/71 [==============================] - 0s 6ms/step - loss: 0.0375 - accuracy: 0.9859 - val_loss: 0.0606 - val_accuracy: 0.9723\n",
            "Epoch 13/30\n",
            "71/71 [==============================] - 0s 5ms/step - loss: 0.0299 - accuracy: 0.9872 - val_loss: 0.0377 - val_accuracy: 0.9855\n",
            "Epoch 14/30\n",
            "71/71 [==============================] - 0s 5ms/step - loss: 0.0236 - accuracy: 0.9913 - val_loss: 0.0404 - val_accuracy: 0.9828\n",
            "Epoch 15/30\n",
            "71/71 [==============================] - 0s 5ms/step - loss: 0.0223 - accuracy: 0.9892 - val_loss: 0.0446 - val_accuracy: 0.9875\n",
            "Epoch 16/30\n",
            "71/71 [==============================] - 0s 5ms/step - loss: 0.0282 - accuracy: 0.9888 - val_loss: 0.0355 - val_accuracy: 0.9875\n",
            "Epoch 17/30\n",
            "71/71 [==============================] - 0s 5ms/step - loss: 0.0254 - accuracy: 0.9882 - val_loss: 0.0432 - val_accuracy: 0.9861\n",
            "Epoch 18/30\n",
            "71/71 [==============================] - 0s 5ms/step - loss: 0.0181 - accuracy: 0.9942 - val_loss: 0.0411 - val_accuracy: 0.9855\n",
            "Epoch 19/30\n",
            "71/71 [==============================] - 0s 5ms/step - loss: 0.0162 - accuracy: 0.9924 - val_loss: 0.0455 - val_accuracy: 0.9808\n",
            "Epoch 20/30\n",
            "71/71 [==============================] - 0s 5ms/step - loss: 0.0206 - accuracy: 0.9902 - val_loss: 0.0518 - val_accuracy: 0.9782\n",
            "Epoch 21/30\n",
            "71/71 [==============================] - 0s 5ms/step - loss: 0.0274 - accuracy: 0.9888 - val_loss: 0.0373 - val_accuracy: 0.9875\n",
            "Epoch 22/30\n",
            "71/71 [==============================] - 0s 5ms/step - loss: 0.0171 - accuracy: 0.9933 - val_loss: 0.0379 - val_accuracy: 0.9868\n",
            "Epoch 23/30\n",
            "71/71 [==============================] - 0s 5ms/step - loss: 0.0164 - accuracy: 0.9932 - val_loss: 0.0340 - val_accuracy: 0.9888\n",
            "Epoch 24/30\n",
            "71/71 [==============================] - 0s 5ms/step - loss: 0.0169 - accuracy: 0.9917 - val_loss: 0.0819 - val_accuracy: 0.9742\n",
            "Epoch 25/30\n",
            "71/71 [==============================] - 0s 5ms/step - loss: 0.0175 - accuracy: 0.9900 - val_loss: 0.0463 - val_accuracy: 0.9822\n",
            "Epoch 26/30\n",
            "71/71 [==============================] - 0s 5ms/step - loss: 0.0249 - accuracy: 0.9893 - val_loss: 0.0581 - val_accuracy: 0.9782\n",
            "Epoch 27/30\n",
            "71/71 [==============================] - 0s 5ms/step - loss: 0.0150 - accuracy: 0.9943 - val_loss: 0.0324 - val_accuracy: 0.9908\n",
            "Epoch 28/30\n",
            "71/71 [==============================] - 0s 5ms/step - loss: 0.0280 - accuracy: 0.9905 - val_loss: 0.0418 - val_accuracy: 0.9835\n",
            "Epoch 29/30\n",
            "71/71 [==============================] - 0s 5ms/step - loss: 0.0304 - accuracy: 0.9890 - val_loss: 0.0391 - val_accuracy: 0.9855\n",
            "Epoch 30/30\n",
            "71/71 [==============================] - 0s 5ms/step - loss: 0.0243 - accuracy: 0.9896 - val_loss: 0.0320 - val_accuracy: 0.9868\n"
          ],
          "name": "stdout"
        }
      ]
    },
    {
      "cell_type": "code",
      "metadata": {
        "colab": {
          "base_uri": "https://localhost:8080/",
          "height": 279
        },
        "id": "Wai_wmN6ddbO",
        "outputId": "3a25efd1-b6d5-4e7a-ccaf-096f13b30986"
      },
      "source": [
        "import matplotlib.pyplot as plt\n",
        "fig,ax=plt.subplots(1,1)\n",
        "ax.set_xlabel('epoch')\n",
        "ax.set_ylabel('loss')\n",
        "\n",
        "x=list(range(1,epochs+1))\n",
        "\n",
        "vy=history.history['val_loss']\n",
        "ty=history.history['loss']\n",
        "\n",
        "def plt_dynamic(x,y,y_1,ax,colors=['b']):\n",
        "    ax.plot(x,y,'b',label='Train loss')\n",
        "    ax.plot(x,y_1,'r',label='Val loss')\n",
        "    plt.legend()\n",
        "    fig.canvas.draw()\n",
        "plt_dynamic(x,vy,ty,ax)"
      ],
      "execution_count": 55,
      "outputs": [
        {
          "output_type": "display_data",
          "data": {
            "image/png": "[encoded data removed]",
            "text/plain": [
              "<Figure size 432x288 with 1 Axes>"
            ]
          },
          "metadata": {
            "tags": [],
            "needs_background": "light"
          }
        }
      ]
    },
    {
      "cell_type": "code",
      "metadata": {
        "id": "G_vDxrpKddbO"
      },
      "source": [
        "model.save('char_recog_model.h5')"
      ],
      "execution_count": 56,
      "outputs": []
    },
    {
      "cell_type": "code",
      "metadata": {
        "id": "OMIvqndsddbO"
      },
      "source": [
        "def to_label(n):\n",
        "    if n<=9:\n",
        "        return str(n)\n",
        "    \n",
        "    return chr(n-10+ord('A'))"
      ],
      "execution_count": 57,
      "outputs": []
    },
    {
      "cell_type": "code",
      "metadata": {
        "id": "4KcXc9MOddbP"
      },
      "source": [
        "y_true=[]\n",
        "y_pred=[]\n",
        "\n",
        "for i in range(len(X_test)):\n",
        "  pred=model.predict(np.array([X_test[i]]))[0]\n",
        "\n",
        "  # Generate arg maxes for prediction\n",
        "  y_true.append(np.argmax(Y_test[i]))\n",
        "  y_pred.append(np.argmax(pred))\n",
        "\n",
        "\n"
      ],
      "execution_count": null,
      "outputs": []
    },
    {
      "cell_type": "code",
      "metadata": {
        "colab": {
          "base_uri": "https://localhost:8080/",
          "height": 500
        },
        "id": "qqUsY0ASddbP",
        "outputId": "508fa619-4225-433a-f15e-6a95a5983345"
      },
      "source": [
        "from sklearn.metrics import confusion_matrix\n",
        "import seaborn as sn\n",
        "mat=confusion_matrix(y_true,y_pred)\n",
        "\n",
        "labels=[to_label(i) for i in range(36)]\n",
        "\n",
        "df_cm = pd.DataFrame(mat,labels,labels)\n",
        "plt.figure(figsize = (12,8))\n",
        "sn.heatmap(df_cm, annot=True)"
      ],
      "execution_count": 68,
      "outputs": [
        {
          "output_type": "execute_result",
          "data": {
            "text/plain": [
              "<matplotlib.axes._subplots.AxesSubplot at 0x7fba2ac5ff10>"
            ]
          },
          "metadata": {
            "tags": []
          },
          "execution_count": 68
        },
        {
          "output_type": "display_data",
          "data": {
            "image/png": "[encoded data removed]",
            "text/plain": [
              "<Figure size 864x576 with 2 Axes>"
            ]
          },
          "metadata": {
            "tags": [],
            "needs_background": "light"
          }
        }
      ]
    },
    {
      "cell_type": "code",
      "metadata": {
        "id": "mXVSfB9vANin"
      },
      "source": [
        ""
      ],
      "execution_count": null,
      "outputs": []
    }
  ]
}