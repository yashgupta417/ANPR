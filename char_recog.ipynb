{
  "nbformat": 4,
  "nbformat_minor": 0,
  "metadata": {
    "kernelspec": {
      "display_name": "Python 3",
      "language": "python",
      "name": "python3"
    },
    "language_info": {
      "codemirror_mode": {
        "name": "ipython",
        "version": 3
      },
      "file_extension": ".py",
      "mimetype": "text/x-python",
      "name": "python",
      "nbconvert_exporter": "python",
      "pygments_lexer": "ipython3",
      "version": "3.8.5"
    },
    "colab": {
      "name": "char_recog.ipynb",
      "provenance": []
    },
    "accelerator": "GPU"
  },
  "cells": [
    {
      "cell_type": "code",
      "metadata": {
        "id": "NxSw4RAXddbB"
      },
      "source": [
        "import numpy as np\n",
        "import pandas as pd\n",
        "import matplotlib.pyplot as plt"
      ],
      "execution_count": 1,
      "outputs": []
    },
    {
      "cell_type": "code",
      "metadata": {
        "colab": {
          "base_uri": "https://localhost:8080/"
        },
        "id": "XnNjW3rWdmcg",
        "outputId": "a2910bd0-3634-46fc-b2df-9a362c877d18"
      },
      "source": [
        "from google.colab import drive\n",
        "drive.mount('/content/drive')"
      ],
      "execution_count": 2,
      "outputs": [
        {
          "output_type": "stream",
          "text": [
            "Drive already mounted at /content/drive; to attempt to forcibly remount, call drive.mount(\"/content/drive\", force_remount=True).\n"
          ],
          "name": "stdout"
        }
      ]
    },
    {
      "cell_type": "code",
      "metadata": {
        "id": "5kd_mBxkgsTm"
      },
      "source": [
        "#zipping data - will take around 5 minutes\n",
        "folder = '/content/drive/MyDrive/ANPR/character_dataset/'\n",
        "data='Training Data'\n",
        "\n",
        "!(cd \"{folder}\" && zip -r -q data.zip \"{data}\")"
      ],
      "execution_count": null,
      "outputs": []
    },
    {
      "cell_type": "code",
      "metadata": {
        "id": "_VyQBVx_kJnb"
      },
      "source": [
        "#copying zip file and unzipping in colab\n",
        "zip_path='/content/drive/MyDrive/ANPR/character_dataset/data.zip'\n",
        "\n",
        "!cp \"{zip_path}\" .\n",
        "!unzip -q data.zip\n",
        "!rm data.zip"
      ],
      "execution_count": null,
      "outputs": []
    },
    {
      "cell_type": "code",
      "metadata": {
        "colab": {
          "base_uri": "https://localhost:8080/"
        },
        "id": "w6styTnbddbH",
        "outputId": "965b87c0-dc55-4511-cd6d-fd9750db6e6e"
      },
      "source": [
        "#****************Data augmentation**************#\n",
        "\n",
        "import albumentations as A\n",
        "import cv2\n",
        "PATH='/content/Training Data'\n",
        "\n",
        "import os\n",
        "\n",
        "#listing all sub directories\n",
        "class_dirs=os.listdir(PATH)\n",
        "\n",
        "\n",
        "def augment(img,path,img_name,border_val):\n",
        "    \n",
        "    transforms=[\n",
        "        [A.Blur(blur_limit=(2,2),p=1)],#blur 1\n",
        "        [A.Blur(blur_limit=(3,3),p=1)], #blur 2\n",
        "\n",
        "        [A.Rotate(limit=(0,15),p=1,border_mode=cv2.BORDER_CONSTANT,value=border_val)],#rotate the image clockwise\n",
        "        [A.Rotate(limit=(-15,0),p=1,border_mode=cv2.BORDER_CONSTANT,value=border_val)],#rotate the image anti-clockwise\n",
        "        [A.Rotate(limit=(15,30),p=1,border_mode=cv2.BORDER_CONSTANT,value=border_val)],#rotate the image clockwise\n",
        "        [A.Rotate(limit=(-30,-15),p=1,border_mode=cv2.BORDER_CONSTANT,value=border_val)],#rotate the image anti-clockwise\n",
        "\n",
        "        [A.Blur(blur_limit=(3,3),p=1),A.Rotate(limit=(-15,0),p=1,border_mode=cv2.BORDER_CONSTANT,value=border_val)],#rotate anti-clockwise and blurr\n",
        "        [A.Blur(blur_limit=(3,3),p=1),A.Rotate(limit=(0,15),p=1,border_mode=cv2.BORDER_CONSTANT,value=border_val)],#rotate clockwise and blurr\n",
        "\n",
        "        #shift scale rotate\n",
        "        [A.ShiftScaleRotate(shift_limit=0.1,scale_limit=(-0.15,0.05), rotate_limit=30,p=1,border_mode=cv2.BORDER_CONSTANT,value=border_val)],\n",
        "        [A.ShiftScaleRotate(shift_limit=0.1,scale_limit=(-0.15,0.05), rotate_limit=30,p=1,border_mode=cv2.BORDER_CONSTANT,value=border_val)],\n",
        "        [A.ShiftScaleRotate(shift_limit=0.1,scale_limit=(-0.15,0.05), rotate_limit=30,p=1,border_mode=cv2.BORDER_CONSTANT,value=border_val)],\n",
        "    ]\n",
        "    \n",
        "    images=[img]\n",
        "\n",
        "    img1=cv2.dilate(img.copy(),(2,2),iterations = 1)\n",
        "    images.append(img1)\n",
        "\n",
        "    img1=cv2.erode(img.copy(),(2,2),iterations = 1)\n",
        "    images.append(img1)\n",
        "\n",
        "    img1=cv2.dilate(img.copy(),(3,3),iterations = 1)\n",
        "    images.append(img1)\n",
        "\n",
        "    img1=cv2.erode(img.copy(),(3,3),iterations = 1)\n",
        "    images.append(img1)\n",
        "\n",
        "    cnt=0\n",
        "    for image in images:\n",
        "        for t in transforms:\n",
        "            #defining transformation\n",
        "            transform=A.Compose(t)\n",
        "\n",
        "            #applying transformation\n",
        "            aug_img=transform(image=image)['image']\n",
        "\n",
        "            #augmented image name\n",
        "            aug_img_name=f'{path}/{img_name}_aug_{cnt}.jpg'\n",
        "\n",
        "            #saving file\n",
        "            cv2.imwrite(aug_img_name,np.float32(aug_img))\n",
        "\n",
        "            cnt+=1\n",
        "\n",
        "def delete_augmentations():\n",
        "    #iterating over all directories\n",
        "    for d in class_dirs:\n",
        "\n",
        "        #listing all images in sub directory\n",
        "        files=os.listdir(os.path.join(PATH,d))\n",
        "\n",
        "        #iterating over all images\n",
        "        for file in files:\n",
        "            file_path=os.path.join(PATH,d,file)\n",
        "            if \"aug\" in file:\n",
        "                os.remove(file_path)\n",
        "                \n",
        "        \n",
        "#iterating over all directories\n",
        "for d in class_dirs:\n",
        "    \n",
        "    #listing all images in sub directory\n",
        "    files=os.listdir(os.path.join(PATH,d))\n",
        "    \n",
        "    #iterating over all images\n",
        "    for file in files:\n",
        "        \n",
        "        #reading image\n",
        "        img=cv2.imread(os.path.join(PATH,d,file))\n",
        "        img=cv2.cvtColor(img,cv2.COLOR_BGR2RGB)\n",
        "\n",
        "        #image name\n",
        "        img_name=file.split('.')[0]\n",
        "        \n",
        "        #generating inverse of image\n",
        "        img_gray=cv2.cvtColor(img.copy(), cv2.COLOR_BGR2GRAY)\n",
        "        img_bw=cv2.threshold(img_gray, 0, 255, cv2.THRESH_OTSU | cv2.THRESH_BINARY_INV)[1]\n",
        "        \n",
        "        #image inv name\n",
        "        img_inv_name=img_name+\"_inv\"\n",
        "        \n",
        "        #saving image inv\n",
        "        cv2.imwrite(f'{d}/{img_inv_name}.png',img_bw)\n",
        "        \n",
        "        #apply data augmentation\n",
        "        augment(img,os.path.join(PATH,d),img_name,0)\n",
        "        \n",
        "        augment(img_bw,os.path.join(PATH,d),img_inv_name,255)\n",
        "\n",
        "    print(f'{d} augmented, number of images: ',len(os.listdir(os.path.join(PATH,d))))\n",
        "        \n",
        "print(\"Data Augmentation Done!\")                 "
      ],
      "execution_count": 5,
      "outputs": [
        {
          "output_type": "stream",
          "text": [
            "2 augmented, number of images:  2664\n",
            "class_Q augmented, number of images:  2664\n",
            "class_M augmented, number of images:  2775\n",
            "5 augmented, number of images:  2664\n",
            "class_Z augmented, number of images:  2664\n",
            "class_B augmented, number of images:  2664\n",
            "6 augmented, number of images:  2664\n",
            "class_J augmented, number of images:  2664\n",
            "class_R augmented, number of images:  2664\n",
            "class_O augmented, number of images:  2664\n",
            "7 augmented, number of images:  2664\n",
            "class_F augmented, number of images:  2664\n",
            "class_P augmented, number of images:  2664\n",
            "class_K augmented, number of images:  2664\n",
            "class_S augmented, number of images:  2664\n",
            "class_L augmented, number of images:  2664\n",
            "class_U augmented, number of images:  2664\n",
            "class_E augmented, number of images:  2664\n",
            "class_X augmented, number of images:  2664\n",
            "class_A augmented, number of images:  2664\n",
            "class_C augmented, number of images:  2664\n",
            "class_W augmented, number of images:  2664\n",
            "0 augmented, number of images:  2664\n",
            "1 augmented, number of images:  2664\n",
            "8 augmented, number of images:  2664\n",
            "class_T augmented, number of images:  2664\n",
            "class_V augmented, number of images:  2664\n",
            "9 augmented, number of images:  2664\n",
            "class_H augmented, number of images:  2664\n",
            "class_Y augmented, number of images:  2664\n",
            "class_G augmented, number of images:  2664\n",
            "class_N augmented, number of images:  2664\n",
            "class_D augmented, number of images:  2664\n",
            "4 augmented, number of images:  2664\n",
            "3 augmented, number of images:  2664\n",
            "class_I augmented, number of images:  2664\n",
            "Data Augmentation Done!\n"
          ],
          "name": "stdout"
        }
      ]
    },
    {
      "cell_type": "code",
      "metadata": {
        "id": "zGlw1--wddbJ",
        "colab": {
          "base_uri": "https://localhost:8080/"
        },
        "outputId": "2aed7ffd-2066-441e-bed9-0f46df51ec5c"
      },
      "source": [
        "#***************************DANGER**************************#\n",
        "#****************For deleting augmentations*****************#\n",
        "\n",
        "delete_augmentations()\n",
        "print(\"Augmented data deleted\")"
      ],
      "execution_count": 7,
      "outputs": [
        {
          "output_type": "stream",
          "text": [
            "Augmented data deleted\n"
          ],
          "name": "stdout"
        }
      ]
    },
    {
      "cell_type": "code",
      "metadata": {
        "colab": {
          "base_uri": "https://localhost:8080/"
        },
        "id": "xwAzbpK9ddbJ",
        "outputId": "45385530-51fe-4dbc-d247-e60acf7ac602"
      },
      "source": [
        "from itertools import chain\n",
        "\n",
        "\n",
        "X=[]\n",
        "Y=[]\n",
        "\n",
        "#iterating over all directories\n",
        "for d in class_dirs:\n",
        "    \n",
        "    #listing all images in sub directory\n",
        "    files=os.listdir(os.path.join(PATH,d))\n",
        "    \n",
        "    #iterating over all images\n",
        "    for file in files:\n",
        "        \n",
        "        #reading image\n",
        "        img=cv2.imread(os.path.join(PATH,d,file))\n",
        "        \n",
        "        #binarizing image\n",
        "        img_gray=cv2.cvtColor(img, cv2.COLOR_BGR2GRAY)\n",
        "        img_bw=cv2.threshold(img_gray, 0, 255, cv2.THRESH_OTSU)[1]\n",
        "        \n",
        "        #flattening image and appending it\n",
        "        X.append(list(chain.from_iterable(img_bw)))\n",
        "        \n",
        "        #appending label\n",
        "        Y.append(file.split('_')[1])\n",
        "        \n",
        "print(len(Y))"
      ],
      "execution_count": 6,
      "outputs": [
        {
          "output_type": "stream",
          "text": [
            "96015\n"
          ],
          "name": "stdout"
        }
      ]
    },
    {
      "cell_type": "code",
      "metadata": {
        "colab": {
          "base_uri": "https://localhost:8080/"
        },
        "id": "I9iWTaE5ddbK",
        "outputId": "ab26551d-132f-4bb8-b85d-0cde125d5706"
      },
      "source": [
        "print(f\"no of images: {len(X)}\")\n",
        "print(f\"no of dimensions: {len(X[0])}\")"
      ],
      "execution_count": 7,
      "outputs": [
        {
          "output_type": "stream",
          "text": [
            "no of images: 96015\n",
            "no of dimensions: 784\n"
          ],
          "name": "stdout"
        }
      ]
    },
    {
      "cell_type": "code",
      "metadata": {
        "colab": {
          "base_uri": "https://localhost:8080/",
          "height": 282
        },
        "id": "YdfuVt4QddbK",
        "outputId": "311c89d2-4f8d-434e-dfdf-d804ed0366d2"
      },
      "source": [
        "x0=np.reshape(X[6],(-1,28))\n",
        "plt.imshow(x0, cmap=\"gray\")"
      ],
      "execution_count": 9,
      "outputs": [
        {
          "output_type": "execute_result",
          "data": {
            "text/plain": [
              "<matplotlib.image.AxesImage at 0x7f713a1ea550>"
            ]
          },
          "metadata": {
            "tags": []
          },
          "execution_count": 9
        },
        {
          "output_type": "display_data",
          "data": {
            "image/png": "[encoded data removed]",
            "text/plain": [
              "<Figure size 432x288 with 1 Axes>"
            ]
          },
          "metadata": {
            "tags": [],
            "needs_background": "light"
          }
        }
      ]
    },
    {
      "cell_type": "code",
      "metadata": {
        "id": "s_GiRH-eddbL"
      },
      "source": [
        "#converting to numpy array\n",
        "X=np.array(X)\n",
        "\n",
        "#normalising X\n",
        "X=X/255\n",
        "\n",
        "#reshaping to (28,28,1)\n",
        "X=X.reshape(len(X),28,28,1)"
      ],
      "execution_count": 10,
      "outputs": []
    },
    {
      "cell_type": "code",
      "metadata": {
        "id": "2sZ63fCoddbL"
      },
      "source": [
        "from keras.utils import np_utils\n",
        "\n",
        "\n",
        "#converting Y[i] to int values: 0-9 and 10-35(A-Z)\n",
        "for i in range(0,len(Y)):\n",
        "    if Y[i].isalpha():\n",
        "        Y[i]=ord(Y[i])-ord('A')+10\n",
        "    else:\n",
        "        Y[i]=int(Y[i])\n",
        "\n",
        "#one hot encoding\n",
        "Y=np_utils.to_categorical(Y,36)\n",
        "\n",
        "#converting to numpy array\n",
        "Y=np.array(Y)"
      ],
      "execution_count": 11,
      "outputs": []
    },
    {
      "cell_type": "code",
      "metadata": {
        "colab": {
          "base_uri": "https://localhost:8080/"
        },
        "id": "zx2eVYZEddbM",
        "outputId": "60f621be-67b7-44e7-a430-180b08e6587c"
      },
      "source": [
        "print(X.shape)\n",
        "print(Y.shape)"
      ],
      "execution_count": 12,
      "outputs": [
        {
          "output_type": "stream",
          "text": [
            "(96015, 28, 28, 1)\n",
            "(96015, 36)\n"
          ],
          "name": "stdout"
        }
      ]
    },
    {
      "cell_type": "code",
      "metadata": {
        "id": "TiMY0SnIddbM"
      },
      "source": [
        "from keras.models import Sequential\n",
        "from keras.layers import Dense,Flatten\n",
        "from keras.layers.convolutional import Conv2D,MaxPooling2D"
      ],
      "execution_count": 13,
      "outputs": []
    },
    {
      "cell_type": "code",
      "metadata": {
        "id": "n7VVmQguddbM"
      },
      "source": [
        "width=28\n",
        "height=28\n",
        "batch_size=64\n",
        "epochs=30\n",
        "model=Sequential()\n",
        "#Conv Layer-1\n",
        "model.add(Conv2D(6,kernel_size=5,input_shape=(width,height,1),data_format='channels_last',padding='same',activation='relu'))\n",
        "\n",
        "#Max Pool Layer-1\n",
        "model.add(MaxPooling2D(pool_size=(2,2),strides=(2,2)))\n",
        "\n",
        "#Conv Layer-2\n",
        "model.add(Conv2D(16,kernel_size=5,activation='relu'))\n",
        "\n",
        "#Max Pool Layer-2\n",
        "model.add(MaxPooling2D(pool_size=(2,2),strides=(2,2)))\n",
        "\n",
        "#Conv Layer-3\n",
        "model.add(Conv2D(120,kernel_size=5,activation='relu'))\n",
        "model.add(Flatten())\n",
        "\n",
        "#Fully Connected Layer-1\n",
        "model.add(Dense(84,activation='relu'))\n",
        "\n",
        "#Softmax\n",
        "model.add(Dense(36,activation='softmax'))"
      ],
      "execution_count": 14,
      "outputs": []
    },
    {
      "cell_type": "code",
      "metadata": {
        "colab": {
          "base_uri": "https://localhost:8080/"
        },
        "id": "GmmK6M386beK",
        "outputId": "fc5ce728-3b57-427a-e6a2-e1d8af6ca90f"
      },
      "source": [
        "model.summary()"
      ],
      "execution_count": 15,
      "outputs": [
        {
          "output_type": "stream",
          "text": [
            "Model: \"sequential\"\n",
            "_________________________________________________________________\n",
            "Layer (type)                 Output Shape              Param #   \n",
            "=================================================================\n",
            "conv2d (Conv2D)              (None, 28, 28, 6)         156       \n",
            "_________________________________________________________________\n",
            "max_pooling2d (MaxPooling2D) (None, 14, 14, 6)         0         \n",
            "_________________________________________________________________\n",
            "conv2d_1 (Conv2D)            (None, 10, 10, 16)        2416      \n",
            "_________________________________________________________________\n",
            "max_pooling2d_1 (MaxPooling2 (None, 5, 5, 16)          0         \n",
            "_________________________________________________________________\n",
            "conv2d_2 (Conv2D)            (None, 1, 1, 120)         48120     \n",
            "_________________________________________________________________\n",
            "flatten (Flatten)            (None, 120)               0         \n",
            "_________________________________________________________________\n",
            "dense (Dense)                (None, 84)                10164     \n",
            "_________________________________________________________________\n",
            "dense_1 (Dense)              (None, 36)                3060      \n",
            "=================================================================\n",
            "Total params: 63,916\n",
            "Trainable params: 63,916\n",
            "Non-trainable params: 0\n",
            "_________________________________________________________________\n"
          ],
          "name": "stdout"
        }
      ]
    },
    {
      "cell_type": "code",
      "metadata": {
        "id": "Qq2HQVtIddbN"
      },
      "source": [
        "model.compile(optimizer='adam',loss='categorical_crossentropy',metrics=['accuracy'])"
      ],
      "execution_count": 16,
      "outputs": []
    },
    {
      "cell_type": "code",
      "metadata": {
        "colab": {
          "base_uri": "https://localhost:8080/"
        },
        "id": "mwVTAvJlddbN",
        "outputId": "cf98a5ba-5f37-4cd3-b33f-5adc1ad20a47"
      },
      "source": [
        "from sklearn.model_selection import train_test_split\n",
        "\n",
        "X_train, X_test, Y_train, Y_test = train_test_split(X, Y, test_size=0.15, random_state=60)\n",
        "\n",
        "print(X_train.shape)\n",
        "print(X_test.shape)"
      ],
      "execution_count": 17,
      "outputs": [
        {
          "output_type": "stream",
          "text": [
            "(81612, 28, 28, 1)\n",
            "(14403, 28, 28, 1)\n"
          ],
          "name": "stdout"
        }
      ]
    },
    {
      "cell_type": "code",
      "metadata": {
        "colab": {
          "base_uri": "https://localhost:8080/"
        },
        "id": "SxfA9zC7ddbO",
        "outputId": "828b369c-3fd6-4979-8ea8-44b365c0acf6"
      },
      "source": [
        "history=model.fit(X_train,Y_train,batch_size=batch_size,epochs=epochs,validation_split = 0.15)"
      ],
      "execution_count": 18,
      "outputs": [
        {
          "output_type": "stream",
          "text": [
            "Epoch 1/30\n",
            "1084/1084 [==============================] - 37s 4ms/step - loss: 1.3446 - accuracy: 0.6187 - val_loss: 0.1648 - val_accuracy: 0.9467\n",
            "Epoch 2/30\n",
            "1084/1084 [==============================] - 4s 4ms/step - loss: 0.1411 - accuracy: 0.9505 - val_loss: 0.0983 - val_accuracy: 0.9630\n",
            "Epoch 3/30\n",
            "1084/1084 [==============================] - 4s 4ms/step - loss: 0.0897 - accuracy: 0.9670 - val_loss: 0.0940 - val_accuracy: 0.9654\n",
            "Epoch 4/30\n",
            "1084/1084 [==============================] - 5s 4ms/step - loss: 0.0692 - accuracy: 0.9733 - val_loss: 0.0656 - val_accuracy: 0.9750\n",
            "Epoch 5/30\n",
            "1084/1084 [==============================] - 4s 4ms/step - loss: 0.0539 - accuracy: 0.9789 - val_loss: 0.0680 - val_accuracy: 0.9747\n",
            "Epoch 6/30\n",
            "1084/1084 [==============================] - 4s 4ms/step - loss: 0.0502 - accuracy: 0.9791 - val_loss: 0.0689 - val_accuracy: 0.9764\n",
            "Epoch 7/30\n",
            "1084/1084 [==============================] - 4s 4ms/step - loss: 0.0438 - accuracy: 0.9819 - val_loss: 0.0600 - val_accuracy: 0.9773\n",
            "Epoch 8/30\n",
            "1084/1084 [==============================] - 4s 4ms/step - loss: 0.0393 - accuracy: 0.9831 - val_loss: 0.0714 - val_accuracy: 0.9731\n",
            "Epoch 9/30\n",
            "1084/1084 [==============================] - 4s 4ms/step - loss: 0.0389 - accuracy: 0.9835 - val_loss: 0.0676 - val_accuracy: 0.9757\n",
            "Epoch 10/30\n",
            "1084/1084 [==============================] - 4s 4ms/step - loss: 0.0355 - accuracy: 0.9849 - val_loss: 0.0742 - val_accuracy: 0.9738\n",
            "Epoch 11/30\n",
            "1084/1084 [==============================] - 4s 4ms/step - loss: 0.0349 - accuracy: 0.9862 - val_loss: 0.0717 - val_accuracy: 0.9770\n",
            "Epoch 12/30\n",
            "1084/1084 [==============================] - 4s 4ms/step - loss: 0.0348 - accuracy: 0.9862 - val_loss: 0.0526 - val_accuracy: 0.9803\n",
            "Epoch 13/30\n",
            "1084/1084 [==============================] - 4s 4ms/step - loss: 0.0306 - accuracy: 0.9875 - val_loss: 0.0594 - val_accuracy: 0.9779\n",
            "Epoch 14/30\n",
            "1084/1084 [==============================] - 5s 4ms/step - loss: 0.0294 - accuracy: 0.9877 - val_loss: 0.0591 - val_accuracy: 0.9778\n",
            "Epoch 15/30\n",
            "1084/1084 [==============================] - 4s 4ms/step - loss: 0.0257 - accuracy: 0.9891 - val_loss: 0.0437 - val_accuracy: 0.9844\n",
            "Epoch 16/30\n",
            "1084/1084 [==============================] - 4s 4ms/step - loss: 0.0281 - accuracy: 0.9880 - val_loss: 0.0838 - val_accuracy: 0.9740\n",
            "Epoch 17/30\n",
            "1084/1084 [==============================] - 4s 4ms/step - loss: 0.0298 - accuracy: 0.9878 - val_loss: 0.0631 - val_accuracy: 0.9800\n",
            "Epoch 18/30\n",
            "1084/1084 [==============================] - 4s 4ms/step - loss: 0.0263 - accuracy: 0.9889 - val_loss: 0.0521 - val_accuracy: 0.9833\n",
            "Epoch 19/30\n",
            "1084/1084 [==============================] - 4s 4ms/step - loss: 0.0245 - accuracy: 0.9902 - val_loss: 0.0824 - val_accuracy: 0.9745\n",
            "Epoch 20/30\n",
            "1084/1084 [==============================] - 4s 4ms/step - loss: 0.0246 - accuracy: 0.9898 - val_loss: 0.0455 - val_accuracy: 0.9833\n",
            "Epoch 21/30\n",
            "1084/1084 [==============================] - 4s 4ms/step - loss: 0.0185 - accuracy: 0.9919 - val_loss: 0.0521 - val_accuracy: 0.9833\n",
            "Epoch 22/30\n",
            "1084/1084 [==============================] - 4s 4ms/step - loss: 0.0249 - accuracy: 0.9893 - val_loss: 0.0534 - val_accuracy: 0.9834\n",
            "Epoch 23/30\n",
            "1084/1084 [==============================] - 4s 4ms/step - loss: 0.0226 - accuracy: 0.9910 - val_loss: 0.0478 - val_accuracy: 0.9843\n",
            "Epoch 24/30\n",
            "1084/1084 [==============================] - 4s 4ms/step - loss: 0.0179 - accuracy: 0.9926 - val_loss: 0.0511 - val_accuracy: 0.9844\n",
            "Epoch 25/30\n",
            "1084/1084 [==============================] - 5s 4ms/step - loss: 0.0221 - accuracy: 0.9912 - val_loss: 0.0540 - val_accuracy: 0.9844\n",
            "Epoch 26/30\n",
            "1084/1084 [==============================] - 4s 4ms/step - loss: 0.0202 - accuracy: 0.9922 - val_loss: 0.0519 - val_accuracy: 0.9860\n",
            "Epoch 27/30\n",
            "1084/1084 [==============================] - 4s 4ms/step - loss: 0.0184 - accuracy: 0.9928 - val_loss: 0.0486 - val_accuracy: 0.9859\n",
            "Epoch 28/30\n",
            "1084/1084 [==============================] - 4s 4ms/step - loss: 0.0189 - accuracy: 0.9924 - val_loss: 0.0477 - val_accuracy: 0.9864\n",
            "Epoch 29/30\n",
            "1084/1084 [==============================] - 4s 4ms/step - loss: 0.0213 - accuracy: 0.9918 - val_loss: 0.0433 - val_accuracy: 0.9865\n",
            "Epoch 30/30\n",
            "1084/1084 [==============================] - 4s 4ms/step - loss: 0.0148 - accuracy: 0.9938 - val_loss: 0.0689 - val_accuracy: 0.9816\n"
          ],
          "name": "stdout"
        }
      ]
    },
    {
      "cell_type": "code",
      "metadata": {
        "colab": {
          "base_uri": "https://localhost:8080/",
          "height": 279
        },
        "id": "Wai_wmN6ddbO",
        "outputId": "b80891d6-b143-4275-dcbd-39ce2da8a490"
      },
      "source": [
        "#Loss curve\n",
        "import matplotlib.pyplot as plt\n",
        "fig,ax=plt.subplots(1,1)\n",
        "ax.set_xlabel('epoch')\n",
        "ax.set_ylabel('loss')\n",
        "\n",
        "x=list(range(1,epochs+1))\n",
        "\n",
        "vy=history.history['val_loss']\n",
        "ty=history.history['loss']\n",
        "\n",
        "def plt_dynamic(x,y,y_1,ax,colors=['b']):\n",
        "    ax.plot(x,y,'b',label='Train loss')\n",
        "    ax.plot(x,y_1,'r',label='Val loss')\n",
        "    plt.legend()\n",
        "    fig.canvas.draw()\n",
        "plt_dynamic(x,vy,ty,ax)"
      ],
      "execution_count": 19,
      "outputs": [
        {
          "output_type": "display_data",
          "data": {
            "image/png": "[encoded data removed]",
            "text/plain": [
              "<Figure size 432x288 with 1 Axes>"
            ]
          },
          "metadata": {
            "tags": [],
            "needs_background": "light"
          }
        }
      ]
    },
    {
      "cell_type": "code",
      "metadata": {
        "id": "ix3WglK8EYt9",
        "colab": {
          "base_uri": "https://localhost:8080/",
          "height": 281
        },
        "outputId": "5e6e74b9-33ee-48ba-9edd-fc97a41b7331"
      },
      "source": [
        "#Accuracy curve\n",
        "fig,ax=plt.subplots(1,1)\n",
        "ax.set_xlabel('epoch')\n",
        "ax.set_ylabel('accuracy')\n",
        "\n",
        "x=list(range(1,epochs+1))\n",
        "\n",
        "vy=history.history['val_accuracy']\n",
        "ty=history.history['accuracy']\n",
        "\n",
        "def plt_dynamic(x,y,y_1,ax,colors=['b']):\n",
        "    ax.plot(x,y,'b',label='Train acc')\n",
        "    ax.plot(x,y_1,'r',label='Val acc')\n",
        "    plt.legend()\n",
        "    fig.canvas.draw()\n",
        "plt_dynamic(x,vy,ty,ax)"
      ],
      "execution_count": 20,
      "outputs": [
        {
          "output_type": "display_data",
          "data": {
            "image/png": "[encoded data removed]",
            "text/plain": [
              "<Figure size 432x288 with 1 Axes>"
            ]
          },
          "metadata": {
            "tags": [],
            "needs_background": "light"
          }
        }
      ]
    },
    {
      "cell_type": "code",
      "metadata": {
        "id": "G_vDxrpKddbO"
      },
      "source": [
        "model.save('char_recog_lenet_model.h5')"
      ],
      "execution_count": 21,
      "outputs": []
    },
    {
      "cell_type": "code",
      "metadata": {
        "id": "OMIvqndsddbO"
      },
      "source": [
        "def to_label(n):\n",
        "    if n<=9:\n",
        "        return str(n)\n",
        "    \n",
        "    return chr(n-10+ord('A'))"
      ],
      "execution_count": 22,
      "outputs": []
    },
    {
      "cell_type": "code",
      "metadata": {
        "id": "4KcXc9MOddbP"
      },
      "source": [
        "y_true=[]\n",
        "y_pred=[]\n",
        "\n",
        "for i in range(len(X_test)):\n",
        "  pred=model.predict(np.array([X_test[i]]))[0]\n",
        "\n",
        "  # Generate arg maxes for prediction\n",
        "  y_true.append(np.argmax(Y_test[i]))\n",
        "  y_pred.append(np.argmax(pred))\n",
        "\n",
        "\n"
      ],
      "execution_count": null,
      "outputs": []
    },
    {
      "cell_type": "code",
      "metadata": {
        "colab": {
          "base_uri": "https://localhost:8080/",
          "height": 500
        },
        "id": "qqUsY0ASddbP",
        "outputId": "35daadb1-a0cf-4538-e71a-b489a6d11aa7"
      },
      "source": [
        "from sklearn.metrics import confusion_matrix\n",
        "import seaborn as sn\n",
        "mat=confusion_matrix(y_true,y_pred)\n",
        "\n",
        "labels=[to_label(i) for i in range(36)]\n",
        "\n",
        "df_cm = pd.DataFrame(mat,labels,labels)\n",
        "plt.figure(figsize = (12,8))\n",
        "sn.heatmap(df_cm, annot=True)"
      ],
      "execution_count": null,
      "outputs": [
        {
          "output_type": "execute_result",
          "data": {
            "text/plain": [
              "<matplotlib.axes._subplots.AxesSubplot at 0x7fba36975550>"
            ]
          },
          "metadata": {
            "tags": []
          },
          "execution_count": 91
        },
        {
          "output_type": "display_data",
          "data": {
            "image/png": "[encoded data removed]",
            "text/plain": [
              "<Figure size 864x576 with 2 Axes>"
            ]
          },
          "metadata": {
            "tags": [],
            "needs_background": "light"
          }
        }
      ]
    },
    {
      "cell_type": "code",
      "metadata": {
        "id": "mXVSfB9vANin"
      },
      "source": [
        ""
      ],
      "execution_count": null,
      "outputs": []
    }
  ]
}