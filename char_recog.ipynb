{
  "nbformat": 4,
  "nbformat_minor": 0,
  "metadata": {
    "kernelspec": {
      "display_name": "Python 3",
      "language": "python",
      "name": "python3"
    },
    "language_info": {
      "codemirror_mode": {
        "name": "ipython",
        "version": 3
      },
      "file_extension": ".py",
      "mimetype": "text/x-python",
      "name": "python",
      "nbconvert_exporter": "python",
      "pygments_lexer": "ipython3",
      "version": "3.8.5"
    },
    "colab": {
      "name": "char_recog.ipynb",
      "provenance": []
    },
    "accelerator": "GPU"
  },
  "cells": [
    {
      "cell_type": "code",
      "metadata": {
        "id": "NxSw4RAXddbB"
      },
      "source": [
        "import numpy as np\n",
        "import pandas as pd\n",
        "import matplotlib.pyplot as plt"
      ],
      "execution_count": 1,
      "outputs": []
    },
    {
      "cell_type": "code",
      "metadata": {
        "colab": {
          "base_uri": "https://localhost:8080/"
        },
        "id": "XnNjW3rWdmcg",
        "outputId": "490ecc11-7241-458d-f7bd-0901e13d1855"
      },
      "source": [
        "from google.colab import drive\n",
        "drive.mount('/content/drive')"
      ],
      "execution_count": 2,
      "outputs": [
        {
          "output_type": "stream",
          "text": [
            "Mounted at /content/drive\n"
          ],
          "name": "stdout"
        }
      ]
    },
    {
      "cell_type": "code",
      "metadata": {
        "id": "5kd_mBxkgsTm"
      },
      "source": [
        "#zipping data - will take around 5 minutes\n",
        "folder = '/content/drive/MyDrive/ANPR/character_dataset/'\n",
        "data='Training Data'\n",
        "\n",
        "!(cd \"{folder}\" && zip -r -q data.zip \"{data}\")"
      ],
      "execution_count": null,
      "outputs": []
    },
    {
      "cell_type": "code",
      "metadata": {
        "id": "_VyQBVx_kJnb"
      },
      "source": [
        "#copying zip file and unzipping in colab\n",
        "zip_path='/content/drive/MyDrive/ANPR/character_dataset/data.zip'\n",
        "\n",
        "!cp \"{zip_path}\" .\n",
        "!unzip -q data.zip\n",
        "!rm data.zip"
      ],
      "execution_count": 3,
      "outputs": []
    },
    {
      "cell_type": "code",
      "metadata": {
        "colab": {
          "base_uri": "https://localhost:8080/"
        },
        "id": "w6styTnbddbH",
        "outputId": "f9fe8a6f-1d56-4cf5-9c35-f9cbe74fb91c"
      },
      "source": [
        "#****************Data augmentation**************#\n",
        "\n",
        "import albumentations as A\n",
        "import cv2\n",
        "PATH='/content/Training Data'\n",
        "\n",
        "import os\n",
        "\n",
        "#listing all sub directories\n",
        "class_dirs=os.listdir(PATH)\n",
        "\n",
        "\n",
        "def augment(img,path,img_name):\n",
        "    \n",
        "    transforms=[\n",
        "        [A.Blur(blur_limit=(2,2),p=1)],#blur 1\n",
        "        [A.Blur(blur_limit=(3,3),p=1)], #blur 2\n",
        "\n",
        "        [A.Rotate(limit=(0,15),p=1)],#rotate the image clockwise\n",
        "        [A.Rotate(limit=(-15,0),p=1)],#rotate the image anti-clockwise\n",
        "        [A.Rotate(limit=(15,30),p=1)],#rotate the image clockwise\n",
        "        [A.Rotate(limit=(-30,-15),p=1)],#rotate the image anti-clockwise\n",
        "\n",
        "        [A.Blur(blur_limit=(3,3),p=1),A.Rotate(limit=(-15,0),p=1)],#rotate anti-clockwise and blurr\n",
        "        [A.Blur(blur_limit=(3,3),p=1),A.Rotate(limit=(0,15),p=1)],#rotate clockwise and blurr\n",
        "\n",
        "        #shift scale rotate\n",
        "        [A.ShiftScaleRotate(shift_limit=0.0625,scale_limit=0.2, rotate_limit=30,p=1)],\n",
        "        [A.ShiftScaleRotate(shift_limit=0.0625,scale_limit=0.2, rotate_limit=30,p=1)],\n",
        "        [A.ShiftScaleRotate(shift_limit=0.0625,scale_limit=0.2, rotate_limit=30,p=1)],\n",
        "    ]\n",
        "    \n",
        "    images=[img]\n",
        "\n",
        "    img1=cv2.dilate(img.copy(),(2,2),iterations = 1)\n",
        "    images.append(img1)\n",
        "\n",
        "    img1=cv2.erode(img.copy(),(2,2),iterations = 1)\n",
        "    images.append(img1)\n",
        "\n",
        "    img1=cv2.dilate(img.copy(),(3,3),iterations = 1)\n",
        "    images.append(img1)\n",
        "\n",
        "    img1=cv2.erode(img.copy(),(3,3),iterations = 1)\n",
        "    images.append(img1)\n",
        "\n",
        "    cnt=0\n",
        "    for image in images:\n",
        "      for t in transforms:\n",
        "          \n",
        "          #defining transformation\n",
        "          transform=A.Compose(t)\n",
        "          \n",
        "          #applying transformation\n",
        "          aug_img=transform(image=image)['image']\n",
        "          \n",
        "          #augmented image name\n",
        "          aug_img_name=f'{path}/{img_name}_aug_{cnt}.jpg'\n",
        "          \n",
        "          #saving file\n",
        "          cv2.imwrite(aug_img_name,np.float32(aug_img))\n",
        "\n",
        "          cnt+=1\n",
        "\n",
        "def delete_augmentations():\n",
        "    #iterating over all directories\n",
        "    for d in class_dirs:\n",
        "\n",
        "        #listing all images in sub directory\n",
        "        files=os.listdir(os.path.join(PATH,d))\n",
        "\n",
        "        #iterating over all images\n",
        "        for file in files:\n",
        "            file_path=os.path.join(PATH,d,file)\n",
        "            if \"aug\" in file:\n",
        "                os.remove(file_path)\n",
        "                \n",
        "        \n",
        "#iterating over all directories\n",
        "for d in class_dirs:\n",
        "    \n",
        "    #listing all images in sub directory\n",
        "    files=os.listdir(os.path.join(PATH,d))\n",
        "    \n",
        "    #iterating over all images\n",
        "    for file in files:\n",
        "        \n",
        "        #reading image\n",
        "        img=cv2.imread(os.path.join(PATH,d,file))\n",
        "        img=cv2.cvtColor(img,cv2.COLOR_BGR2RGB)\n",
        "\n",
        "        img_gray=cv2.cvtColor(img, cv2.COLOR_BGR2GRAY)\n",
        "        img_bw=cv2.threshold(img_gray, 0, 255, cv2.THRESH_OTSU | cv2.THRESH_BINARY_INV)[1]\n",
        "        cv2.imwrite(os.path.join(d,file),img_bw)\n",
        "        \n",
        "        img_name=file.split('.')[0]\n",
        "        \n",
        "        #apply data augmentation\n",
        "        augment(img_bw,os.path.join(PATH,d),img_name)\n",
        "\n",
        "    print(f'{d} augmented, number of images: ',len(os.listdir(os.path.join(PATH,d))))\n",
        "        \n",
        "print(\"Data Augmentation Done!\")                "
      ],
      "execution_count": 6,
      "outputs": [
        {
          "output_type": "stream",
          "text": [
            "2 augmented, number of images:  1344\n",
            "class_Q augmented, number of images:  1344\n",
            "class_M augmented, number of images:  1400\n",
            "5 augmented, number of images:  1344\n",
            "class_Z augmented, number of images:  1344\n",
            "class_B augmented, number of images:  1344\n",
            "6 augmented, number of images:  1344\n",
            "class_J augmented, number of images:  1344\n",
            "class_R augmented, number of images:  1344\n",
            "class_O augmented, number of images:  1344\n",
            "7 augmented, number of images:  1344\n",
            "class_F augmented, number of images:  1344\n",
            "class_P augmented, number of images:  1344\n",
            "class_K augmented, number of images:  1344\n",
            "class_S augmented, number of images:  1344\n",
            "class_L augmented, number of images:  1344\n",
            "class_U augmented, number of images:  1344\n",
            "class_E augmented, number of images:  1344\n",
            "class_X augmented, number of images:  1344\n",
            "class_A augmented, number of images:  1344\n",
            "class_C augmented, number of images:  1344\n",
            "class_W augmented, number of images:  1344\n",
            "0 augmented, number of images:  1344\n",
            "1 augmented, number of images:  1344\n",
            "8 augmented, number of images:  1344\n",
            "class_T augmented, number of images:  1344\n",
            "class_V augmented, number of images:  1344\n",
            "9 augmented, number of images:  1344\n",
            "class_H augmented, number of images:  1344\n",
            "class_Y augmented, number of images:  1344\n",
            "class_G augmented, number of images:  1344\n",
            "class_N augmented, number of images:  1344\n",
            "class_D augmented, number of images:  1344\n",
            "4 augmented, number of images:  1344\n",
            "3 augmented, number of images:  1344\n",
            "class_I augmented, number of images:  1344\n",
            "Data Augmentation Done!\n"
          ],
          "name": "stdout"
        }
      ]
    },
    {
      "cell_type": "code",
      "metadata": {
        "id": "zGlw1--wddbJ",
        "outputId": "9d4c6250-802c-443d-e139-402c1f6db134",
        "colab": {
          "base_uri": "https://localhost:8080/"
        }
      },
      "source": [
        "#***************************DANGER**************************#\n",
        "#****************For deleting augmentations*****************#\n",
        "\n",
        "delete_augmentations()\n",
        "print(\"Augmented data deleted\")"
      ],
      "execution_count": 5,
      "outputs": [
        {
          "output_type": "stream",
          "text": [
            "Augmented data deleted\n"
          ],
          "name": "stdout"
        }
      ]
    },
    {
      "cell_type": "code",
      "metadata": {
        "colab": {
          "base_uri": "https://localhost:8080/"
        },
        "id": "xwAzbpK9ddbJ",
        "outputId": "70911b08-609a-4c4a-ba9a-cff99117c8d7"
      },
      "source": [
        "from itertools import chain\n",
        "\n",
        "\n",
        "X=[]\n",
        "Y=[]\n",
        "\n",
        "#iterating over all directories\n",
        "for d in class_dirs:\n",
        "    \n",
        "    #listing all images in sub directory\n",
        "    files=os.listdir(os.path.join(PATH,d))\n",
        "    \n",
        "    #iterating over all images\n",
        "    for file in files:\n",
        "        \n",
        "        #reading image\n",
        "        img=cv2.imread(os.path.join(PATH,d,file))\n",
        "        \n",
        "        #binarizing image\n",
        "        img_gray=cv2.cvtColor(img, cv2.COLOR_BGR2GRAY)\n",
        "        img_bw=cv2.threshold(img_gray, 0, 255, cv2.THRESH_OTSU | cv2.THRESH_BINARY_INV)[1]\n",
        "        \n",
        "        #flattening image and appending it\n",
        "        X.append(list(chain.from_iterable(img_bw)))\n",
        "        \n",
        "        #appending label\n",
        "        Y.append(file.split('_')[1])\n",
        "        \n",
        "print(len(Y))"
      ],
      "execution_count": null,
      "outputs": [
        {
          "output_type": "stream",
          "text": [
            "6055\n"
          ],
          "name": "stdout"
        }
      ]
    },
    {
      "cell_type": "code",
      "metadata": {
        "colab": {
          "base_uri": "https://localhost:8080/"
        },
        "id": "I9iWTaE5ddbK",
        "outputId": "e942284e-9d1c-4702-90e8-04b9344dbed0"
      },
      "source": [
        "print(f\"no of images: {len(X)}\")\n",
        "print(f\"no of dimensions: {len(X[0])}\")"
      ],
      "execution_count": null,
      "outputs": [
        {
          "output_type": "stream",
          "text": [
            "no of images: 6055\n",
            "no of dimensions: 784\n"
          ],
          "name": "stdout"
        }
      ]
    },
    {
      "cell_type": "code",
      "metadata": {
        "colab": {
          "base_uri": "https://localhost:8080/",
          "height": 282
        },
        "id": "YdfuVt4QddbK",
        "outputId": "ca3fa7bf-4a5d-4523-b855-67f8dc04a04e"
      },
      "source": [
        "x0=np.reshape(X[0],(-1,28))\n",
        "plt.imshow(x0, cmap=\"gray\")"
      ],
      "execution_count": null,
      "outputs": [
        {
          "output_type": "execute_result",
          "data": {
            "text/plain": [
              "<matplotlib.image.AxesImage at 0x7fba21fc3a50>"
            ]
          },
          "metadata": {
            "tags": []
          },
          "execution_count": 39
        },
        {
          "output_type": "display_data",
          "data": {
            "image/png": "[encoded data removed]",
            "text/plain": [
              "<Figure size 432x288 with 1 Axes>"
            ]
          },
          "metadata": {
            "tags": [],
            "needs_background": "light"
          }
        }
      ]
    },
    {
      "cell_type": "code",
      "metadata": {
        "id": "s_GiRH-eddbL"
      },
      "source": [
        "#converting to numpy array\n",
        "X=np.array(X)\n",
        "\n",
        "#normalising X\n",
        "X=X/255\n",
        "\n",
        "#reshaping to (28,28,1)\n",
        "X=X.reshape(len(X),28,28,1)"
      ],
      "execution_count": null,
      "outputs": []
    },
    {
      "cell_type": "code",
      "metadata": {
        "id": "2sZ63fCoddbL"
      },
      "source": [
        "from keras.utils import np_utils\n",
        "\n",
        "\n",
        "#converting Y[i] to int values: 0-9 and 10-35(A-Z)\n",
        "for i in range(0,len(Y)):\n",
        "    if Y[i].isalpha():\n",
        "        Y[i]=ord(Y[i])-ord('A')+10\n",
        "    else:\n",
        "        Y[i]=int(Y[i])\n",
        "\n",
        "#one hot encoding\n",
        "Y=np_utils.to_categorical(Y,36)\n",
        "\n",
        "#converting to numpy array\n",
        "Y=np.array(Y)"
      ],
      "execution_count": null,
      "outputs": []
    },
    {
      "cell_type": "code",
      "metadata": {
        "colab": {
          "base_uri": "https://localhost:8080/"
        },
        "id": "zx2eVYZEddbM",
        "outputId": "59f87716-b539-4cbb-f492-11a93da20f2d"
      },
      "source": [
        "print(X.shape)\n",
        "print(Y.shape)"
      ],
      "execution_count": null,
      "outputs": [
        {
          "output_type": "stream",
          "text": [
            "(6055, 28, 28, 1)\n",
            "(6055, 36)\n"
          ],
          "name": "stdout"
        }
      ]
    },
    {
      "cell_type": "code",
      "metadata": {
        "id": "TiMY0SnIddbM"
      },
      "source": [
        "from keras.models import Sequential\n",
        "from keras.layers import Dense,Flatten\n",
        "from keras.layers.convolutional import Conv2D,MaxPooling2D"
      ],
      "execution_count": null,
      "outputs": []
    },
    {
      "cell_type": "code",
      "metadata": {
        "id": "n7VVmQguddbM"
      },
      "source": [
        "width=28\n",
        "height=28\n",
        "batch_size=64\n",
        "epochs=30\n",
        "model=Sequential()\n",
        "#Conv Layer-1\n",
        "model.add(Conv2D(6,kernel_size=5,input_shape=(width,height,1),data_format='channels_last',padding='same',activation='relu'))\n",
        "\n",
        "#Max Pool Layer-1\n",
        "model.add(MaxPooling2D(pool_size=(2,2),strides=(2,2)))\n",
        "\n",
        "#Conv Layer-2\n",
        "model.add(Conv2D(16,kernel_size=5,activation='relu'))\n",
        "\n",
        "#Max Pool Layer-2\n",
        "model.add(MaxPooling2D(pool_size=(2,2),strides=(2,2)))\n",
        "\n",
        "#Conv Layer-3\n",
        "model.add(Conv2D(120,kernel_size=5,activation='relu'))\n",
        "model.add(Flatten())\n",
        "\n",
        "#Fully Connected Layer-1\n",
        "model.add(Dense(84,activation='relu'))\n",
        "\n",
        "#Softmax\n",
        "model.add(Dense(36,activation='softmax'))"
      ],
      "execution_count": null,
      "outputs": []
    },
    {
      "cell_type": "code",
      "metadata": {
        "colab": {
          "base_uri": "https://localhost:8080/"
        },
        "id": "GmmK6M386beK",
        "outputId": "9d66a0d6-4726-4b8c-f294-ceee1f078bd7"
      },
      "source": [
        "model.summary()"
      ],
      "execution_count": null,
      "outputs": [
        {
          "output_type": "stream",
          "text": [
            "Model: \"sequential_3\"\n",
            "_________________________________________________________________\n",
            "Layer (type)                 Output Shape              Param #   \n",
            "=================================================================\n",
            "conv2d_9 (Conv2D)            (None, 28, 28, 6)         156       \n",
            "_________________________________________________________________\n",
            "max_pooling2d_6 (MaxPooling2 (None, 14, 14, 6)         0         \n",
            "_________________________________________________________________\n",
            "conv2d_10 (Conv2D)           (None, 10, 10, 16)        2416      \n",
            "_________________________________________________________________\n",
            "max_pooling2d_7 (MaxPooling2 (None, 5, 5, 16)          0         \n",
            "_________________________________________________________________\n",
            "conv2d_11 (Conv2D)           (None, 1, 1, 120)         48120     \n",
            "_________________________________________________________________\n",
            "flatten_3 (Flatten)          (None, 120)               0         \n",
            "_________________________________________________________________\n",
            "dense_6 (Dense)              (None, 84)                10164     \n",
            "_________________________________________________________________\n",
            "dense_7 (Dense)              (None, 36)                3060      \n",
            "=================================================================\n",
            "Total params: 63,916\n",
            "Trainable params: 63,916\n",
            "Non-trainable params: 0\n",
            "_________________________________________________________________\n"
          ],
          "name": "stdout"
        }
      ]
    },
    {
      "cell_type": "code",
      "metadata": {
        "id": "Qq2HQVtIddbN"
      },
      "source": [
        "model.compile(optimizer='adam',loss='categorical_crossentropy',metrics=['accuracy'])"
      ],
      "execution_count": null,
      "outputs": []
    },
    {
      "cell_type": "code",
      "metadata": {
        "colab": {
          "base_uri": "https://localhost:8080/"
        },
        "id": "mwVTAvJlddbN",
        "outputId": "4a563d51-2ff1-4ba8-82a9-52b2dcb5288f"
      },
      "source": [
        "from sklearn.model_selection import train_test_split\n",
        "\n",
        "X_train, X_test, Y_train, Y_test = train_test_split(X, Y, test_size=0.15, random_state=60)\n",
        "\n",
        "print(X_train.shape)\n",
        "print(X_test.shape)"
      ],
      "execution_count": null,
      "outputs": [
        {
          "output_type": "stream",
          "text": [
            "(5146, 28, 28, 1)\n",
            "(909, 28, 28, 1)\n"
          ],
          "name": "stdout"
        }
      ]
    },
    {
      "cell_type": "code",
      "metadata": {
        "colab": {
          "base_uri": "https://localhost:8080/"
        },
        "id": "SxfA9zC7ddbO",
        "outputId": "c3d66909-97ca-4445-e72c-e62bc294c2b4"
      },
      "source": [
        "history=model.fit(X_train,Y_train,batch_size=batch_size,epochs=epochs,validation_split = 0.15)"
      ],
      "execution_count": null,
      "outputs": [
        {
          "output_type": "stream",
          "text": [
            "Epoch 1/30\n",
            "69/69 [==============================] - 1s 9ms/step - loss: 3.0157 - accuracy: 0.2552 - val_loss: 0.7210 - val_accuracy: 0.7785\n",
            "Epoch 2/30\n",
            "69/69 [==============================] - 0s 5ms/step - loss: 0.4870 - accuracy: 0.8540 - val_loss: 0.2521 - val_accuracy: 0.9054\n",
            "Epoch 3/30\n",
            "69/69 [==============================] - 0s 5ms/step - loss: 0.1760 - accuracy: 0.9414 - val_loss: 0.1637 - val_accuracy: 0.9430\n",
            "Epoch 4/30\n",
            "69/69 [==============================] - 0s 5ms/step - loss: 0.1197 - accuracy: 0.9636 - val_loss: 0.0945 - val_accuracy: 0.9702\n",
            "Epoch 5/30\n",
            "69/69 [==============================] - 0s 5ms/step - loss: 0.0781 - accuracy: 0.9719 - val_loss: 0.0849 - val_accuracy: 0.9650\n",
            "Epoch 6/30\n",
            "69/69 [==============================] - 0s 4ms/step - loss: 0.0548 - accuracy: 0.9816 - val_loss: 0.0812 - val_accuracy: 0.9715\n",
            "Epoch 7/30\n",
            "69/69 [==============================] - 0s 5ms/step - loss: 0.0877 - accuracy: 0.9680 - val_loss: 0.0772 - val_accuracy: 0.9702\n",
            "Epoch 8/30\n",
            "69/69 [==============================] - 0s 5ms/step - loss: 0.0518 - accuracy: 0.9832 - val_loss: 0.0640 - val_accuracy: 0.9741\n",
            "Epoch 9/30\n",
            "69/69 [==============================] - 0s 5ms/step - loss: 0.0540 - accuracy: 0.9801 - val_loss: 0.0521 - val_accuracy: 0.9832\n",
            "Epoch 10/30\n",
            "69/69 [==============================] - 0s 5ms/step - loss: 0.0278 - accuracy: 0.9883 - val_loss: 0.0509 - val_accuracy: 0.9715\n",
            "Epoch 11/30\n",
            "69/69 [==============================] - 0s 5ms/step - loss: 0.0367 - accuracy: 0.9837 - val_loss: 0.0703 - val_accuracy: 0.9676\n",
            "Epoch 12/30\n",
            "69/69 [==============================] - 0s 5ms/step - loss: 0.0753 - accuracy: 0.9777 - val_loss: 0.0611 - val_accuracy: 0.9637\n",
            "Epoch 13/30\n",
            "69/69 [==============================] - 0s 5ms/step - loss: 0.0384 - accuracy: 0.9828 - val_loss: 0.0449 - val_accuracy: 0.9845\n",
            "Epoch 14/30\n",
            "69/69 [==============================] - 0s 5ms/step - loss: 0.0194 - accuracy: 0.9929 - val_loss: 0.0394 - val_accuracy: 0.9845\n",
            "Epoch 15/30\n",
            "69/69 [==============================] - 0s 5ms/step - loss: 0.0198 - accuracy: 0.9921 - val_loss: 0.0420 - val_accuracy: 0.9832\n",
            "Epoch 16/30\n",
            "69/69 [==============================] - 0s 5ms/step - loss: 0.0237 - accuracy: 0.9914 - val_loss: 0.0486 - val_accuracy: 0.9754\n",
            "Epoch 17/30\n",
            "69/69 [==============================] - 0s 5ms/step - loss: 0.0246 - accuracy: 0.9884 - val_loss: 0.0521 - val_accuracy: 0.9741\n",
            "Epoch 18/30\n",
            "69/69 [==============================] - 0s 5ms/step - loss: 0.0288 - accuracy: 0.9896 - val_loss: 0.0466 - val_accuracy: 0.9806\n",
            "Epoch 19/30\n",
            "69/69 [==============================] - 0s 5ms/step - loss: 0.0276 - accuracy: 0.9903 - val_loss: 0.0436 - val_accuracy: 0.9754\n",
            "Epoch 20/30\n",
            "69/69 [==============================] - 0s 5ms/step - loss: 0.0286 - accuracy: 0.9868 - val_loss: 0.0394 - val_accuracy: 0.9832\n",
            "Epoch 21/30\n",
            "69/69 [==============================] - 0s 5ms/step - loss: 0.0211 - accuracy: 0.9912 - val_loss: 0.0455 - val_accuracy: 0.9858\n",
            "Epoch 22/30\n",
            "69/69 [==============================] - 0s 5ms/step - loss: 0.0207 - accuracy: 0.9934 - val_loss: 0.0395 - val_accuracy: 0.9845\n",
            "Epoch 23/30\n",
            "69/69 [==============================] - 0s 5ms/step - loss: 0.0184 - accuracy: 0.9914 - val_loss: 0.0388 - val_accuracy: 0.9819\n",
            "Epoch 24/30\n",
            "69/69 [==============================] - 0s 5ms/step - loss: 0.0209 - accuracy: 0.9903 - val_loss: 0.0408 - val_accuracy: 0.9832\n",
            "Epoch 25/30\n",
            "69/69 [==============================] - 0s 5ms/step - loss: 0.0161 - accuracy: 0.9925 - val_loss: 0.0360 - val_accuracy: 0.9845\n",
            "Epoch 26/30\n",
            "69/69 [==============================] - 0s 5ms/step - loss: 0.0205 - accuracy: 0.9906 - val_loss: 0.0449 - val_accuracy: 0.9806\n",
            "Epoch 27/30\n",
            "69/69 [==============================] - 0s 5ms/step - loss: 0.0173 - accuracy: 0.9929 - val_loss: 0.0385 - val_accuracy: 0.9832\n",
            "Epoch 28/30\n",
            "69/69 [==============================] - 0s 5ms/step - loss: 0.0186 - accuracy: 0.9910 - val_loss: 0.0415 - val_accuracy: 0.9819\n",
            "Epoch 29/30\n",
            "69/69 [==============================] - 0s 5ms/step - loss: 0.0175 - accuracy: 0.9923 - val_loss: 0.0413 - val_accuracy: 0.9832\n",
            "Epoch 30/30\n",
            "69/69 [==============================] - 0s 5ms/step - loss: 0.0222 - accuracy: 0.9902 - val_loss: 0.0411 - val_accuracy: 0.9819\n"
          ],
          "name": "stdout"
        }
      ]
    },
    {
      "cell_type": "code",
      "metadata": {
        "colab": {
          "base_uri": "https://localhost:8080/",
          "height": 279
        },
        "id": "Wai_wmN6ddbO",
        "outputId": "b02c62e0-ddfe-4c42-bd15-5e54e24501d4"
      },
      "source": [
        "#Loss curve\n",
        "import matplotlib.pyplot as plt\n",
        "fig,ax=plt.subplots(1,1)\n",
        "ax.set_xlabel('epoch')\n",
        "ax.set_ylabel('loss')\n",
        "\n",
        "x=list(range(1,epochs+1))\n",
        "\n",
        "vy=history.history['val_loss']\n",
        "ty=history.history['loss']\n",
        "\n",
        "def plt_dynamic(x,y,y_1,ax,colors=['b']):\n",
        "    ax.plot(x,y,'b',label='Train loss')\n",
        "    ax.plot(x,y_1,'r',label='Val loss')\n",
        "    plt.legend()\n",
        "    fig.canvas.draw()\n",
        "plt_dynamic(x,vy,ty,ax)"
      ],
      "execution_count": null,
      "outputs": [
        {
          "output_type": "display_data",
          "data": {
            "image/png": "[encoded data removed]",
            "text/plain": [
              "<Figure size 432x288 with 1 Axes>"
            ]
          },
          "metadata": {
            "tags": [],
            "needs_background": "light"
          }
        }
      ]
    },
    {
      "cell_type": "code",
      "metadata": {
        "id": "ix3WglK8EYt9",
        "colab": {
          "base_uri": "https://localhost:8080/",
          "height": 279
        },
        "outputId": "5eae6f84-f46b-4991-ba9f-cdce57703d82"
      },
      "source": [
        "#Accuracy curve\n",
        "fig,ax=plt.subplots(1,1)\n",
        "ax.set_xlabel('epoch')\n",
        "ax.set_ylabel('accuracy')\n",
        "\n",
        "x=list(range(1,epochs+1))\n",
        "\n",
        "vy=history.history['val_accuracy']\n",
        "ty=history.history['accuracy']\n",
        "\n",
        "def plt_dynamic(x,y,y_1,ax,colors=['b']):\n",
        "    ax.plot(x,y,'b',label='Train acc')\n",
        "    ax.plot(x,y_1,'r',label='Val acc')\n",
        "    plt.legend()\n",
        "    fig.canvas.draw()\n",
        "plt_dynamic(x,vy,ty,ax)"
      ],
      "execution_count": null,
      "outputs": [
        {
          "output_type": "display_data",
          "data": {
            "image/png": "[encoded data removed]",
            "text/plain": [
              "<Figure size 432x288 with 1 Axes>"
            ]
          },
          "metadata": {
            "tags": [],
            "needs_background": "light"
          }
        }
      ]
    },
    {
      "cell_type": "code",
      "metadata": {
        "id": "G_vDxrpKddbO"
      },
      "source": [
        "model.save('char_recog_lenet_model.h5')"
      ],
      "execution_count": null,
      "outputs": []
    },
    {
      "cell_type": "code",
      "metadata": {
        "id": "OMIvqndsddbO"
      },
      "source": [
        "def to_label(n):\n",
        "    if n<=9:\n",
        "        return str(n)\n",
        "    \n",
        "    return chr(n-10+ord('A'))"
      ],
      "execution_count": null,
      "outputs": []
    },
    {
      "cell_type": "code",
      "metadata": {
        "id": "4KcXc9MOddbP"
      },
      "source": [
        "y_true=[]\n",
        "y_pred=[]\n",
        "\n",
        "for i in range(len(X_test)):\n",
        "  pred=model.predict(np.array([X_test[i]]))[0]\n",
        "\n",
        "  # Generate arg maxes for prediction\n",
        "  y_true.append(np.argmax(Y_test[i]))\n",
        "  y_pred.append(np.argmax(pred))\n",
        "\n",
        "\n"
      ],
      "execution_count": null,
      "outputs": []
    },
    {
      "cell_type": "code",
      "metadata": {
        "colab": {
          "base_uri": "https://localhost:8080/",
          "height": 500
        },
        "id": "qqUsY0ASddbP",
        "outputId": "35daadb1-a0cf-4538-e71a-b489a6d11aa7"
      },
      "source": [
        "from sklearn.metrics import confusion_matrix\n",
        "import seaborn as sn\n",
        "mat=confusion_matrix(y_true,y_pred)\n",
        "\n",
        "labels=[to_label(i) for i in range(36)]\n",
        "\n",
        "df_cm = pd.DataFrame(mat,labels,labels)\n",
        "plt.figure(figsize = (12,8))\n",
        "sn.heatmap(df_cm, annot=True)"
      ],
      "execution_count": null,
      "outputs": [
        {
          "output_type": "execute_result",
          "data": {
            "text/plain": [
              "<matplotlib.axes._subplots.AxesSubplot at 0x7fba36975550>"
            ]
          },
          "metadata": {
            "tags": []
          },
          "execution_count": 91
        },
        {
          "output_type": "display_data",
          "data": {
            "image/png": "[encoded data removed]",
            "text/plain": [
              "<Figure size 864x576 with 2 Axes>"
            ]
          },
          "metadata": {
            "tags": [],
            "needs_background": "light"
          }
        }
      ]
    },
    {
      "cell_type": "code",
      "metadata": {
        "id": "mXVSfB9vANin"
      },
      "source": [
        ""
      ],
      "execution_count": null,
      "outputs": []
    }
  ]
}