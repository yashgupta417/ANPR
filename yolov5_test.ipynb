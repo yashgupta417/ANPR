{
 "cells": [
  {
   "cell_type": "code",
   "execution_count": 1,
   "metadata": {},
   "outputs": [],
   "source": [
    "import numpy as np\n",
    "import pandas as pd\n",
    "import matplotlib.pyplot as plt"
   ]
  },
  {
   "cell_type": "code",
   "execution_count": 2,
   "metadata": {},
   "outputs": [],
   "source": [
    "#new terminal for jupyter notebook to display console outputs\n",
    "%qtconsole"
   ]
  },
  {
   "cell_type": "code",
   "execution_count": 50,
   "metadata": {},
   "outputs": [
    {
     "name": "stdout",
     "output_type": "stream",
     "text": [
      "C:\\Users\\HP\\Desktop\\ML\\ANPR\\yolov5\n",
      "Namespace(agnostic_nms=False, augment=False, classes=None, conf_thres=0.25, device='', exist_ok=True, img_size=640, iou_thres=0.45, name='exp', nosave=False, project='runs/detect', save_conf=True, save_txt=True, source='../random-cars-dataset/images/', update=False, view_img=False, weights=['./runs/train/exp2/weights/best.pt'])\n",
      "Fusing layers... \n",
      "image 1/139 C:\\Users\\HP\\Desktop\\ML\\ANPR\\yolov5\\..\\random-cars-dataset\\images\\Cars0.png: 352x640 1 license_plate, Done. (0.444s)\n",
      "image 2/139 C:\\Users\\HP\\Desktop\\ML\\ANPR\\yolov5\\..\\random-cars-dataset\\images\\Cars1.png: 416x640 1 license_plate, Done. (0.654s)\n",
      "image 3/139 C:\\Users\\HP\\Desktop\\ML\\ANPR\\yolov5\\..\\random-cars-dataset\\images\\Cars102.png: 512x640 1 license_plate, Done. (0.684s)\n",
      "image 4/139 C:\\Users\\HP\\Desktop\\ML\\ANPR\\yolov5\\..\\random-cars-dataset\\images\\Cars107.png: 384x640 1 license_plate, Done. (0.486s)\n",
      "image 5/139 C:\\Users\\HP\\Desktop\\ML\\ANPR\\yolov5\\..\\random-cars-dataset\\images\\Cars108.png: 512x640 1 license_plate, Done. (0.713s)\n",
      "image 6/139 C:\\Users\\HP\\Desktop\\ML\\ANPR\\yolov5\\..\\random-cars-dataset\\images\\Cars109.png: 448x640 1 license_plate, Done. (0.650s)\n",
      "image 7/139 C:\\Users\\HP\\Desktop\\ML\\ANPR\\yolov5\\..\\random-cars-dataset\\images\\Cars11.png: 512x640 1 license_plate, Done. (0.630s)\n",
      "image 8/139 C:\\Users\\HP\\Desktop\\ML\\ANPR\\yolov5\\..\\random-cars-dataset\\images\\Cars111.png: 384x640 1 license_plate, Done. (0.521s)\n",
      "image 9/139 C:\\Users\\HP\\Desktop\\ML\\ANPR\\yolov5\\..\\random-cars-dataset\\images\\Cars113.png: 480x640 1 license_plate, Done. (0.545s)\n",
      "image 10/139 C:\\Users\\HP\\Desktop\\ML\\ANPR\\yolov5\\..\\random-cars-dataset\\images\\Cars116.png: 544x640 1 license_plate, Done. (0.748s)\n",
      "image 11/139 C:\\Users\\HP\\Desktop\\ML\\ANPR\\yolov5\\..\\random-cars-dataset\\images\\Cars118.png: 416x640 1 license_plate, Done. (0.536s)\n",
      "image 12/139 C:\\Users\\HP\\Desktop\\ML\\ANPR\\yolov5\\..\\random-cars-dataset\\images\\Cars12.png: 256x640 1 license_plate, Done. (0.480s)\n",
      "image 13/139 C:\\Users\\HP\\Desktop\\ML\\ANPR\\yolov5\\..\\random-cars-dataset\\images\\Cars120.png: 448x640 1 license_plate, Done. (0.712s)\n",
      "image 14/139 C:\\Users\\HP\\Desktop\\ML\\ANPR\\yolov5\\..\\random-cars-dataset\\images\\Cars125.png: 416x640 1 license_plate, Done. (0.634s)\n",
      "image 15/139 C:\\Users\\HP\\Desktop\\ML\\ANPR\\yolov5\\..\\random-cars-dataset\\images\\Cars126.png: 480x640 1 license_plate, Done. (0.728s)\n",
      "image 16/139 C:\\Users\\HP\\Desktop\\ML\\ANPR\\yolov5\\..\\random-cars-dataset\\images\\Cars128.png: 384x640 1 license_plate, Done. (0.533s)\n",
      "image 17/139 C:\\Users\\HP\\Desktop\\ML\\ANPR\\yolov5\\..\\random-cars-dataset\\images\\Cars129.png: 512x640 1 license_plate, Done. (0.622s)\n",
      "image 18/139 C:\\Users\\HP\\Desktop\\ML\\ANPR\\yolov5\\..\\random-cars-dataset\\images\\Cars133.png: 448x640 1 license_plate, Done. (0.744s)\n",
      "image 19/139 C:\\Users\\HP\\Desktop\\ML\\ANPR\\yolov5\\..\\random-cars-dataset\\images\\Cars14.png: 384x640 1 license_plate, Done. (0.503s)\n",
      "image 20/139 C:\\Users\\HP\\Desktop\\ML\\ANPR\\yolov5\\..\\random-cars-dataset\\images\\Cars140.png: 448x640 1 license_plate, Done. (0.599s)\n",
      "image 21/139 C:\\Users\\HP\\Desktop\\ML\\ANPR\\yolov5\\..\\random-cars-dataset\\images\\Cars144.png: 544x640 1 license_plate, Done. (0.682s)\n",
      "image 22/139 C:\\Users\\HP\\Desktop\\ML\\ANPR\\yolov5\\..\\random-cars-dataset\\images\\Cars150.png: 480x640 1 license_plate, Done. (0.702s)\n",
      "image 23/139 C:\\Users\\HP\\Desktop\\ML\\ANPR\\yolov5\\..\\random-cars-dataset\\images\\Cars153.png: 384x640 1 license_plate, Done. (0.514s)\n",
      "image 24/139 C:\\Users\\HP\\Desktop\\ML\\ANPR\\yolov5\\..\\random-cars-dataset\\images\\Cars158.png: 480x640 1 license_plate, Done. (0.667s)\n",
      "image 25/139 C:\\Users\\HP\\Desktop\\ML\\ANPR\\yolov5\\..\\random-cars-dataset\\images\\Cars159.png: 544x640 1 license_plate, Done. (0.753s)\n",
      "image 26/139 C:\\Users\\HP\\Desktop\\ML\\ANPR\\yolov5\\..\\random-cars-dataset\\images\\Cars163.png: 384x640 1 license_plate, Done. (0.541s)\n",
      "image 27/139 C:\\Users\\HP\\Desktop\\ML\\ANPR\\yolov5\\..\\random-cars-dataset\\images\\Cars167.png: 512x640 1 license_plate, Done. (0.853s)\n",
      "image 28/139 C:\\Users\\HP\\Desktop\\ML\\ANPR\\yolov5\\..\\random-cars-dataset\\images\\Cars175.png: 480x640 Done. (0.647s)\n",
      "image 29/139 C:\\Users\\HP\\Desktop\\ML\\ANPR\\yolov5\\..\\random-cars-dataset\\images\\Cars177.png: 384x640 1 license_plate, Done. (0.597s)\n",
      "image 30/139 C:\\Users\\HP\\Desktop\\ML\\ANPR\\yolov5\\..\\random-cars-dataset\\images\\Cars18.png: 512x640 1 license_plate, Done. (0.658s)\n",
      "image 31/139 C:\\Users\\HP\\Desktop\\ML\\ANPR\\yolov5\\..\\random-cars-dataset\\images\\Cars180.png: 480x640 1 license_plate, Done. (0.647s)\n",
      "image 32/139 C:\\Users\\HP\\Desktop\\ML\\ANPR\\yolov5\\..\\random-cars-dataset\\images\\Cars182.png: 384x640 1 license_plate, Done. (0.542s)\n",
      "image 33/139 C:\\Users\\HP\\Desktop\\ML\\ANPR\\yolov5\\..\\random-cars-dataset\\images\\Cars183.png: 384x640 1 license_plate, Done. (0.489s)\n",
      "image 34/139 C:\\Users\\HP\\Desktop\\ML\\ANPR\\yolov5\\..\\random-cars-dataset\\images\\Cars187.png: 384x640 1 license_plate, Done. (0.513s)\n",
      "image 35/139 C:\\Users\\HP\\Desktop\\ML\\ANPR\\yolov5\\..\\random-cars-dataset\\images\\Cars19.png: 384x640 2 license_plates, Done. (0.516s)\n",
      "image 36/139 C:\\Users\\HP\\Desktop\\ML\\ANPR\\yolov5\\..\\random-cars-dataset\\images\\Cars190.png: 480x640 1 license_plate, Done. (0.615s)\n",
      "image 37/139 C:\\Users\\HP\\Desktop\\ML\\ANPR\\yolov5\\..\\random-cars-dataset\\images\\Cars192.png: 480x640 1 license_plate, Done. (0.611s)\n",
      "image 38/139 C:\\Users\\HP\\Desktop\\ML\\ANPR\\yolov5\\..\\random-cars-dataset\\images\\Cars197.png: 384x640 1 license_plate, Done. (0.477s)\n",
      "image 39/139 C:\\Users\\HP\\Desktop\\ML\\ANPR\\yolov5\\..\\random-cars-dataset\\images\\Cars198.png: 512x640 1 license_plate, Done. (0.823s)\n",
      "image 40/139 C:\\Users\\HP\\Desktop\\ML\\ANPR\\yolov5\\..\\random-cars-dataset\\images\\Cars199.png: 448x640 1 license_plate, Done. (0.616s)\n",
      "image 41/139 C:\\Users\\HP\\Desktop\\ML\\ANPR\\yolov5\\..\\random-cars-dataset\\images\\Cars203.png: 448x640 1 license_plate, Done. (0.580s)\n",
      "image 42/139 C:\\Users\\HP\\Desktop\\ML\\ANPR\\yolov5\\..\\random-cars-dataset\\images\\Cars211.png: 480x640 1 license_plate, Done. (0.633s)\n",
      "image 43/139 C:\\Users\\HP\\Desktop\\ML\\ANPR\\yolov5\\..\\random-cars-dataset\\images\\Cars212.png: 480x640 1 license_plate, Done. (0.661s)\n",
      "image 44/139 C:\\Users\\HP\\Desktop\\ML\\ANPR\\yolov5\\..\\random-cars-dataset\\images\\Cars216.png: 512x640 1 license_plate, Done. (0.592s)\n",
      "image 45/139 C:\\Users\\HP\\Desktop\\ML\\ANPR\\yolov5\\..\\random-cars-dataset\\images\\Cars217.png: 384x640 2 license_plates, Done. (0.464s)\n",
      "image 46/139 C:\\Users\\HP\\Desktop\\ML\\ANPR\\yolov5\\..\\random-cars-dataset\\images\\Cars219.png: 480x640 1 license_plate, Done. (0.660s)\n",
      "image 47/139 C:\\Users\\HP\\Desktop\\ML\\ANPR\\yolov5\\..\\random-cars-dataset\\images\\Cars225.png: 416x640 1 license_plate, Done. (0.551s)\n",
      "image 48/139 C:\\Users\\HP\\Desktop\\ML\\ANPR\\yolov5\\..\\random-cars-dataset\\images\\Cars230.png: 384x640 1 license_plate, Done. (0.514s)\n",
      "image 49/139 C:\\Users\\HP\\Desktop\\ML\\ANPR\\yolov5\\..\\random-cars-dataset\\images\\Cars231.png: 448x640 1 license_plate, Done. (0.541s)\n",
      "image 50/139 C:\\Users\\HP\\Desktop\\ML\\ANPR\\yolov5\\..\\random-cars-dataset\\images\\Cars234.png: 384x640 1 license_plate, Done. (0.426s)\n",
      "image 51/139 C:\\Users\\HP\\Desktop\\ML\\ANPR\\yolov5\\..\\random-cars-dataset\\images\\Cars235.png: 384x640 1 license_plate, Done. (0.431s)\n",
      "image 52/139 C:\\Users\\HP\\Desktop\\ML\\ANPR\\yolov5\\..\\random-cars-dataset\\images\\Cars239.png: 512x640 1 license_plate, Done. (0.691s)\n",
      "image 53/139 C:\\Users\\HP\\Desktop\\ML\\ANPR\\yolov5\\..\\random-cars-dataset\\images\\Cars243.png: 480x640 1 license_plate, Done. (0.699s)\n",
      "image 54/139 C:\\Users\\HP\\Desktop\\ML\\ANPR\\yolov5\\..\\random-cars-dataset\\images\\Cars248.png: 480x640 1 license_plate, Done. (0.640s)\n",
      "image 55/139 C:\\Users\\HP\\Desktop\\ML\\ANPR\\yolov5\\..\\random-cars-dataset\\images\\Cars250.png: 416x640 1 license_plate, Done. (0.508s)\n",
      "image 56/139 C:\\Users\\HP\\Desktop\\ML\\ANPR\\yolov5\\..\\random-cars-dataset\\images\\Cars252.png: 512x640 1 license_plate, Done. (0.649s)\n",
      "image 57/139 C:\\Users\\HP\\Desktop\\ML\\ANPR\\yolov5\\..\\random-cars-dataset\\images\\Cars254.png: 608x640 1 license_plate, Done. (0.775s)\n",
      "image 58/139 C:\\Users\\HP\\Desktop\\ML\\ANPR\\yolov5\\..\\random-cars-dataset\\images\\Cars255.png: 448x640 1 license_plate, Done. (0.566s)\n",
      "image 59/139 C:\\Users\\HP\\Desktop\\ML\\ANPR\\yolov5\\..\\random-cars-dataset\\images\\Cars257.png: 480x640 1 license_plate, Done. (0.575s)\n",
      "image 60/139 C:\\Users\\HP\\Desktop\\ML\\ANPR\\yolov5\\..\\random-cars-dataset\\images\\Cars259.png: 384x640 1 license_plate, Done. (0.478s)\n",
      "image 61/139 C:\\Users\\HP\\Desktop\\ML\\ANPR\\yolov5\\..\\random-cars-dataset\\images\\Cars261.png: 480x640 1 license_plate, Done. (0.664s)\n",
      "image 62/139 C:\\Users\\HP\\Desktop\\ML\\ANPR\\yolov5\\..\\random-cars-dataset\\images\\Cars265.png: 352x640 1 license_plate, Done. (0.462s)\n",
      "image 63/139 C:\\Users\\HP\\Desktop\\ML\\ANPR\\yolov5\\..\\random-cars-dataset\\images\\Cars27.png: 384x640 1 license_plate, Done. (0.489s)\n",
      "image 64/139 C:\\Users\\HP\\Desktop\\ML\\ANPR\\yolov5\\..\\random-cars-dataset\\images\\Cars276.png: 448x640 1 license_plate, Done. (0.575s)\n",
      "image 65/139 C:\\Users\\HP\\Desktop\\ML\\ANPR\\yolov5\\..\\random-cars-dataset\\images\\Cars282.png: 512x640 1 license_plate, Done. (0.734s)\n",
      "image 66/139 C:\\Users\\HP\\Desktop\\ML\\ANPR\\yolov5\\..\\random-cars-dataset\\images\\Cars287.png: 544x640 1 license_plate, Done. (0.746s)\n",
      "image 67/139 C:\\Users\\HP\\Desktop\\ML\\ANPR\\yolov5\\..\\random-cars-dataset\\images\\Cars296.png: 512x640 1 license_plate, Done. (0.765s)\n",
      "image 68/139 C:\\Users\\HP\\Desktop\\ML\\ANPR\\yolov5\\..\\random-cars-dataset\\images\\Cars297.png: 384x640 1 license_plate, Done. (0.523s)\n",
      "image 69/139 C:\\Users\\HP\\Desktop\\ML\\ANPR\\yolov5\\..\\random-cars-dataset\\images\\Cars298.png: 448x640 1 license_plate, Done. (0.488s)\n",
      "image 70/139 C:\\Users\\HP\\Desktop\\ML\\ANPR\\yolov5\\..\\random-cars-dataset\\images\\Cars299.png: 480x640 1 license_plate, Done. (0.636s)\n",
      "image 71/139 C:\\Users\\HP\\Desktop\\ML\\ANPR\\yolov5\\..\\random-cars-dataset\\images\\Cars3.png: 384x640 1 license_plate, Done. (0.446s)\n",
      "image 72/139 C:\\Users\\HP\\Desktop\\ML\\ANPR\\yolov5\\..\\random-cars-dataset\\images\\Cars301.png: 320x640 1 license_plate, Done. (0.392s)\n",
      "image 73/139 C:\\Users\\HP\\Desktop\\ML\\ANPR\\yolov5\\..\\random-cars-dataset\\images\\Cars302.png: 320x640 1 license_plate, Done. (0.449s)\n",
      "image 74/139 C:\\Users\\HP\\Desktop\\ML\\ANPR\\yolov5\\..\\random-cars-dataset\\images\\Cars304.png: 384x640 1 license_plate, Done. (0.547s)\n",
      "image 75/139 C:\\Users\\HP\\Desktop\\ML\\ANPR\\yolov5\\..\\random-cars-dataset\\images\\Cars306.png: 640x640 1 license_plate, Done. (0.753s)\n",
      "image 76/139 C:\\Users\\HP\\Desktop\\ML\\ANPR\\yolov5\\..\\random-cars-dataset\\images\\Cars307.png: 448x640 1 license_plate, Done. (0.549s)\n",
      "image 77/139 C:\\Users\\HP\\Desktop\\ML\\ANPR\\yolov5\\..\\random-cars-dataset\\images\\Cars309.png: 384x640 1 license_plate, Done. (0.516s)\n",
      "image 78/139 C:\\Users\\HP\\Desktop\\ML\\ANPR\\yolov5\\..\\random-cars-dataset\\images\\Cars312.png: 384x640 1 license_plate, Done. (0.423s)\n",
      "image 79/139 C:\\Users\\HP\\Desktop\\ML\\ANPR\\yolov5\\..\\random-cars-dataset\\images\\Cars315.png: 480x640 1 license_plate, Done. (0.632s)\n",
      "image 80/139 C:\\Users\\HP\\Desktop\\ML\\ANPR\\yolov5\\..\\random-cars-dataset\\images\\Cars318.png: 384x640 1 license_plate, Done. (0.525s)\n",
      "image 81/139 C:\\Users\\HP\\Desktop\\ML\\ANPR\\yolov5\\..\\random-cars-dataset\\images\\Cars32.png: 480x640 1 license_plate, Done. (0.590s)\n",
      "image 82/139 C:\\Users\\HP\\Desktop\\ML\\ANPR\\yolov5\\..\\random-cars-dataset\\images\\Cars322.png: 576x640 1 license_plate, Done. (0.774s)\n",
      "image 83/139 C:\\Users\\HP\\Desktop\\ML\\ANPR\\yolov5\\..\\random-cars-dataset\\images\\Cars323.png: 384x640 1 license_plate, Done. (0.486s)\n",
      "image 84/139 C:\\Users\\HP\\Desktop\\ML\\ANPR\\yolov5\\..\\random-cars-dataset\\images\\Cars326.png: 480x640 1 license_plate, Done. (0.620s)\n",
      "image 85/139 C:\\Users\\HP\\Desktop\\ML\\ANPR\\yolov5\\..\\random-cars-dataset\\images\\Cars327.png: 416x640 1 license_plate, Done. (0.591s)\n",
      "image 86/139 C:\\Users\\HP\\Desktop\\ML\\ANPR\\yolov5\\..\\random-cars-dataset\\images\\Cars328.png: 384x640 1 license_plate, Done. (0.522s)\n",
      "image 87/139 C:\\Users\\HP\\Desktop\\ML\\ANPR\\yolov5\\..\\random-cars-dataset\\images\\Cars33.png: 384x640 1 license_plate, Done. (0.485s)\n",
      "image 88/139 C:\\Users\\HP\\Desktop\\ML\\ANPR\\yolov5\\..\\random-cars-dataset\\images\\Cars332.png: 384x640 1 license_plate, Done. (0.472s)\n",
      "image 89/139 C:\\Users\\HP\\Desktop\\ML\\ANPR\\yolov5\\..\\random-cars-dataset\\images\\Cars333.png: 448x640 1 license_plate, Done. (0.545s)\n",
      "image 90/139 C:\\Users\\HP\\Desktop\\ML\\ANPR\\yolov5\\..\\random-cars-dataset\\images\\Cars34.png: 544x640 1 license_plate, Done. (0.702s)\n",
      "image 91/139 C:\\Users\\HP\\Desktop\\ML\\ANPR\\yolov5\\..\\random-cars-dataset\\images\\Cars351.png: 384x640 1 license_plate, Done. (0.577s)\n",
      "image 92/139 C:\\Users\\HP\\Desktop\\ML\\ANPR\\yolov5\\..\\random-cars-dataset\\images\\Cars355.png: 448x640 1 license_plate, Done. (0.568s)\n",
      "image 93/139 C:\\Users\\HP\\Desktop\\ML\\ANPR\\yolov5\\..\\random-cars-dataset\\images\\Cars365.png: 448x640 1 license_plate, Done. (0.512s)\n",
      "image 94/139 C:\\Users\\HP\\Desktop\\ML\\ANPR\\yolov5\\..\\random-cars-dataset\\images\\Cars366.png: 384x640 1 license_plate, Done. (0.455s)\n",
      "image 95/139 C:\\Users\\HP\\Desktop\\ML\\ANPR\\yolov5\\..\\random-cars-dataset\\images\\Cars367.png: 448x640 1 license_plate, Done. (0.567s)\n",
      "image 96/139 C:\\Users\\HP\\Desktop\\ML\\ANPR\\yolov5\\..\\random-cars-dataset\\images\\Cars369.png: 512x640 1 license_plate, Done. (0.682s)\n",
      "image 97/139 C:\\Users\\HP\\Desktop\\ML\\ANPR\\yolov5\\..\\random-cars-dataset\\images\\Cars372.png: 480x640 1 license_plate, Done. (0.656s)\n",
      "image 98/139 C:\\Users\\HP\\Desktop\\ML\\ANPR\\yolov5\\..\\random-cars-dataset\\images\\Cars374.png: 352x640 1 license_plate, Done. (0.431s)\n",
      "image 99/139 C:\\Users\\HP\\Desktop\\ML\\ANPR\\yolov5\\..\\random-cars-dataset\\images\\Cars376.png: 448x640 1 license_plate, Done. (0.585s)\n",
      "image 100/139 C:\\Users\\HP\\Desktop\\ML\\ANPR\\yolov5\\..\\random-cars-dataset\\images\\Cars381.png: 384x640 1 license_plate, Done. (0.473s)\n",
      "image 101/139 C:\\Users\\HP\\Desktop\\ML\\ANPR\\yolov5\\..\\random-cars-dataset\\images\\Cars382.png: 480x640 1 license_plate, Done. (0.656s)\n",
      "image 102/139 C:\\Users\\HP\\Desktop\\ML\\ANPR\\yolov5\\..\\random-cars-dataset\\images\\Cars386.png: 480x640 1 license_plate, Done. (0.617s)\n",
      "image 103/139 C:\\Users\\HP\\Desktop\\ML\\ANPR\\yolov5\\..\\random-cars-dataset\\images\\Cars387.png: 448x640 1 license_plate, Done. (0.588s)\n",
      "image 104/139 C:\\Users\\HP\\Desktop\\ML\\ANPR\\yolov5\\..\\random-cars-dataset\\images\\Cars389.png: 480x640 1 license_plate, Done. (0.572s)\n",
      "image 105/139 C:\\Users\\HP\\Desktop\\ML\\ANPR\\yolov5\\..\\random-cars-dataset\\images\\Cars39.png: 480x640 1 license_plate, Done. (0.573s)\n",
      "image 106/139 C:\\Users\\HP\\Desktop\\ML\\ANPR\\yolov5\\..\\random-cars-dataset\\images\\Cars393.png: 352x640 1 license_plate, Done. (0.505s)\n",
      "image 107/139 C:\\Users\\HP\\Desktop\\ML\\ANPR\\yolov5\\..\\random-cars-dataset\\images\\Cars396.png: 640x480 2 license_plates, Done. (0.527s)\n",
      "image 108/139 C:\\Users\\HP\\Desktop\\ML\\ANPR\\yolov5\\..\\random-cars-dataset\\images\\Cars399.png: 384x640 1 license_plate, Done. (0.497s)\n",
      "image 109/139 C:\\Users\\HP\\Desktop\\ML\\ANPR\\yolov5\\..\\random-cars-dataset\\images\\Cars4.png: 384x640 1 license_plate, Done. (0.463s)\n",
      "image 110/139 C:\\Users\\HP\\Desktop\\ML\\ANPR\\yolov5\\..\\random-cars-dataset\\images\\Cars406.png: 448x640 1 license_plate, Done. (0.588s)\n",
      "image 111/139 C:\\Users\\HP\\Desktop\\ML\\ANPR\\yolov5\\..\\random-cars-dataset\\images\\Cars416.png: 480x640 1 license_plate, Done. (0.595s)\n",
      "image 112/139 C:\\Users\\HP\\Desktop\\ML\\ANPR\\yolov5\\..\\random-cars-dataset\\images\\Cars417.png: 480x640 1 license_plate, Done. (0.596s)\n",
      "image 113/139 C:\\Users\\HP\\Desktop\\ML\\ANPR\\yolov5\\..\\random-cars-dataset\\images\\Cars423.png: 416x640 1 license_plate, Done. (0.475s)\n",
      "image 114/139 C:\\Users\\HP\\Desktop\\ML\\ANPR\\yolov5\\..\\random-cars-dataset\\images\\Cars424.png: 480x640 1 license_plate, Done. (0.566s)\n",
      "image 115/139 C:\\Users\\HP\\Desktop\\ML\\ANPR\\yolov5\\..\\random-cars-dataset\\images\\Cars425.png: 320x640 1 license_plate, Done. (0.398s)\n",
      "image 116/139 C:\\Users\\HP\\Desktop\\ML\\ANPR\\yolov5\\..\\random-cars-dataset\\images\\Cars427.png: 480x640 2 license_plates, Done. (0.581s)\n",
      "image 117/139 C:\\Users\\HP\\Desktop\\ML\\ANPR\\yolov5\\..\\random-cars-dataset\\images\\Cars428.png: 384x640 1 license_plate, Done. (0.512s)\n",
      "image 118/139 C:\\Users\\HP\\Desktop\\ML\\ANPR\\yolov5\\..\\random-cars-dataset\\images\\Cars429.png: 640x512 1 license_plate, Done. (0.641s)\n",
      "image 119/139 C:\\Users\\HP\\Desktop\\ML\\ANPR\\yolov5\\..\\random-cars-dataset\\images\\Cars43.png: 384x640 1 license_plate, Done. (0.536s)\n",
      "image 120/139 C:\\Users\\HP\\Desktop\\ML\\ANPR\\yolov5\\..\\random-cars-dataset\\images\\Cars430.png: 384x640 1 license_plate, Done. (0.441s)\n",
      "image 121/139 C:\\Users\\HP\\Desktop\\ML\\ANPR\\yolov5\\..\\random-cars-dataset\\images\\Cars48.png: 384x640 1 license_plate, Done. (0.509s)\n",
      "image 122/139 C:\\Users\\HP\\Desktop\\ML\\ANPR\\yolov5\\..\\random-cars-dataset\\images\\Cars50.png: 384x640 1 license_plate, Done. (0.480s)\n",
      "image 123/139 C:\\Users\\HP\\Desktop\\ML\\ANPR\\yolov5\\..\\random-cars-dataset\\images\\Cars53.png: 480x640 1 license_plate, Done. (0.555s)\n",
      "image 124/139 C:\\Users\\HP\\Desktop\\ML\\ANPR\\yolov5\\..\\random-cars-dataset\\images\\Cars54.png: 480x640 1 license_plate, Done. (0.555s)\n",
      "image 125/139 C:\\Users\\HP\\Desktop\\ML\\ANPR\\yolov5\\..\\random-cars-dataset\\images\\Cars58.png: 416x640 1 license_plate, Done. (0.548s)\n",
      "image 126/139 C:\\Users\\HP\\Desktop\\ML\\ANPR\\yolov5\\..\\random-cars-dataset\\images\\Cars60.png: 480x640 1 license_plate, Done. (0.579s)\n",
      "image 127/139 C:\\Users\\HP\\Desktop\\ML\\ANPR\\yolov5\\..\\random-cars-dataset\\images\\Cars65.png: 544x640 1 license_plate, Done. (0.742s)\n",
      "image 128/139 C:\\Users\\HP\\Desktop\\ML\\ANPR\\yolov5\\..\\random-cars-dataset\\images\\Cars67.png: 320x640 1 license_plate, Done. (0.490s)\n",
      "image 129/139 C:\\Users\\HP\\Desktop\\ML\\ANPR\\yolov5\\..\\random-cars-dataset\\images\\Cars72.png: 544x640 1 license_plate, Done. (0.753s)\n",
      "image 130/139 C:\\Users\\HP\\Desktop\\ML\\ANPR\\yolov5\\..\\random-cars-dataset\\images\\Cars73.png: 384x640 1 license_plate, Done. (0.439s)\n",
      "image 131/139 C:\\Users\\HP\\Desktop\\ML\\ANPR\\yolov5\\..\\random-cars-dataset\\images\\Cars74.png: 448x640 1 license_plate, Done. (0.560s)\n",
      "image 132/139 C:\\Users\\HP\\Desktop\\ML\\ANPR\\yolov5\\..\\random-cars-dataset\\images\\Cars77.png: 448x640 1 license_plate, Done. (0.533s)\n",
      "image 133/139 C:\\Users\\HP\\Desktop\\ML\\ANPR\\yolov5\\..\\random-cars-dataset\\images\\Cars78.png: 480x640 1 license_plate, Done. (0.549s)\n",
      "image 134/139 C:\\Users\\HP\\Desktop\\ML\\ANPR\\yolov5\\..\\random-cars-dataset\\images\\Cars8.png: 320x640 1 license_plate, Done. (0.355s)\n",
      "image 135/139 C:\\Users\\HP\\Desktop\\ML\\ANPR\\yolov5\\..\\random-cars-dataset\\images\\Cars80.png: 480x640 1 license_plate, Done. (0.609s)\n",
      "image 136/139 C:\\Users\\HP\\Desktop\\ML\\ANPR\\yolov5\\..\\random-cars-dataset\\images\\Cars86.png: 384x640 1 license_plate, Done. (0.484s)\n",
      "image 137/139 C:\\Users\\HP\\Desktop\\ML\\ANPR\\yolov5\\..\\random-cars-dataset\\images\\Cars9.png: 512x640 1 license_plate, Done. (0.632s)C:\\Users\\HP\\Desktop\\ML\\ANPR\n",
      "image 138/139 C:\\Users\\HP\\Desktop\\ML\\ANPR\\yolov5\\..\\random-cars-dataset\\images\\Cars96.png: 416x640 1 license_plate, Done. (0.465s)\n",
      "image 139/139 C:\\Users\\HP\\Desktop\\ML\\ANPR\\yolov5\\..\\random-cars-dataset\\images\\Cars97.png: 480x640 1 license_plate, Done. (0.556s)\n",
      "Results saved to runs\\detect\\exp\n",
      "138 labels saved to runs\\detect\\exp\\labels\n",
      "Done. (89.361s)\n"
     ]
    },
    {
     "name": "stderr",
     "output_type": "stream",
     "text": [
      "YOLOv5  46d723b torch 1.8.1+cpu CPU\n",
      "\n",
      "Model Summary: 224 layers, 7053910 parameters, 0 gradients, 16.3 GFLOPS\n"
     ]
    },
    {
     "name": "stdout",
     "output_type": "stream",
     "text": [
      "\n"
     ]
    }
   ],
   "source": [
    "%cd yolov5\n",
    "!python detect.py --weights ./runs/train/exp2/weights/best.pt --source ../random-cars-dataset/images/ --save-txt --exist-ok --save-conf\n",
    "%cd .."
   ]
  },
  {
   "cell_type": "code",
   "execution_count": 51,
   "metadata": {},
   "outputs": [],
   "source": [
    "PATH='./random-cars-dataset'\n",
    "\n",
    "def decode_yolo_format(img_name,width,height):\n",
    "    \n",
    "    img_result_path=f'./yolov5/runs/detect/exp/labels/{img_name}.txt'\n",
    "    \n",
    "    #creates a file if not exists\n",
    "    if not os.path.exists(img_result_path):\n",
    "        with open(img_result_path, 'w'): pass\n",
    "        \n",
    "    label_file=open(img_result_path)\n",
    "    \n",
    "    labels=label_file.readlines()\n",
    "    f=open(f'{PATH}/bounding_boxes_pred/{img_name}.txt','w')\n",
    "    \n",
    "    for label in labels:\n",
    "        s=label.replace('\\n','').split(' ')\n",
    "        s=[ float(i) for i in s]\n",
    "\n",
    "        bottom_x=((2*s[1]+s[3])/2)\n",
    "        top_x=bottom_x-s[3]\n",
    "\n",
    "        bottom_y=((2*s[2]+s[4])/2)\n",
    "        top_y=bottom_y-s[4]\n",
    "\n",
    "        top_x=int(top_x*width)\n",
    "        bottom_x=int(bottom_x*width)\n",
    "\n",
    "        top_y=int(top_y*height)\n",
    "        bottom_y=int(bottom_y*height)\n",
    "\n",
    "        conf=s[5]\n",
    "        \n",
    "        f.write(f'0 {conf} {top_x} {top_y} {bottom_x} {bottom_y} \\n')\n",
    "    \n",
    "    f.close()\n",
    "    label_file.close()\n"
   ]
  },
  {
   "cell_type": "code",
   "execution_count": 52,
   "metadata": {},
   "outputs": [],
   "source": [
    "import os\n",
    "import xml.etree.ElementTree as ET\n",
    "import re\n",
    "\n",
    "def xml_to_txt(file):    \n",
    "    \n",
    "    #reading xml file\n",
    "    root=ET.parse(f'{PATH}/annotations/{file}.xml').getroot()\n",
    "\n",
    "    #extracting bounding box\n",
    "    ob=root.find('object')\n",
    "\n",
    "    xmin=int(ob.find('bndbox/xmin').text)\n",
    "    ymin=int(ob.find('bndbox/ymin').text)\n",
    "    xmax=int(ob.find('bndbox/xmax').text)\n",
    "    ymax=int(ob.find('bndbox/ymax').text)\n",
    "    \n",
    "    \n",
    "    #writing to text file\n",
    "    f=open(f'{PATH}/bounding_boxes/{file}.txt','w')\n",
    "    f.write(f'0 {xmin} {ymin} {xmax} {ymax}')\n",
    "    f.close()"
   ]
  },
  {
   "cell_type": "code",
   "execution_count": 53,
   "metadata": {},
   "outputs": [],
   "source": [
    "import os\n",
    "try:\n",
    " from PIL import Image\n",
    "except ImportError:\n",
    " import Image\n",
    "\n",
    "\n",
    "#extracting bounding box of each image to calculate mAP of yolo\n",
    "for img in os.listdir(f'{PATH}/images'):\n",
    "    \n",
    "    #extracting file name, eg: Car1 from Car1.png\n",
    "    f_name=img.split('.')[0]\n",
    "    \n",
    "    #getting ground truth\n",
    "    xml_to_txt(f_name)\n",
    "    \n",
    "    #get image size\n",
    "    img_path=f'{PATH}/images/{img}'\n",
    "    width,height=Image.open(img_path).size\n",
    "    \n",
    "    \n",
    "    #getting predicting bounding box\n",
    "    decode_yolo_format(f_name,width,height)"
   ]
  },
  {
   "cell_type": "code",
   "execution_count": 39,
   "metadata": {},
   "outputs": [
    {
     "name": "stderr",
     "output_type": "stream",
     "text": [
      "Cloning into 'mAP'...\n"
     ]
    }
   ],
   "source": [
    "!git clone https://github.com/Cartucho/mAP"
   ]
  },
  {
   "cell_type": "code",
   "execution_count": 40,
   "metadata": {},
   "outputs": [],
   "source": [
    "#Steps to evalucate mAP\n",
    "\n",
    "# 1. Create the ground-truth files\n",
    "# 2. Copy the ground-truth files into the folder input/ground-truth/\n",
    "# 3. Create the detection-results files\n",
    "# 4. Copy the detection-results files into the folder input/detection-results/\n",
    "# 5. Run the code: python main.py"
   ]
  },
  {
   "cell_type": "code",
   "execution_count": 41,
   "metadata": {},
   "outputs": [],
   "source": [
    "#Step 1 and 3 are done, now we need to copy results to the above mentioned folders"
   ]
  },
  {
   "cell_type": "code",
   "execution_count": 55,
   "metadata": {},
   "outputs": [],
   "source": [
    "import shutil\n",
    "import os\n",
    "    \n",
    "#move all files from one directory to another\n",
    "def move_all_files(source_dir,target_dir):\n",
    "\n",
    "    file_names = os.listdir(source_dir)\n",
    "\n",
    "    for file_name in file_names:\n",
    "        shutil.copy(os.path.join(source_dir, file_name), target_dir)"
   ]
  },
  {
   "cell_type": "code",
   "execution_count": 56,
   "metadata": {},
   "outputs": [],
   "source": [
    "#moving ground truth files\n",
    "move_all_files('./random-cars-dataset/bounding_boxes/','./mAP/input/ground-truth/')\n",
    "\n",
    "#moving yolo predictions\n",
    "move_all_files('./random-cars-dataset/bounding_boxes_pred/','./mAP/input/detection-results/')"
   ]
  },
  {
   "cell_type": "code",
   "execution_count": 62,
   "metadata": {},
   "outputs": [
    {
     "name": "stdout",
     "output_type": "stream",
     "text": [
      "43.36% = 0 AP \n",
      "mAP = 43.36%\n"
     ]
    },
    {
     "name": "stderr",
     "output_type": "stream",
     "text": [
      "Traceback (most recent call last):\n",
      "  File \"./mAP/main.py\", line 753, in <module>\n",
      "cv2.error: OpenCV(4.5.1) C:\\Users\\appveyor\\AppData\\Local\\Temp\\1\\pip-req-build-kh7iq4w7\\opencv\\modules\\imgcodecs\\src\\loadsave.cpp:753: error: (-215:Assertion failed) !_img.empty() in function 'cv::imwrite'\n",
      "\n"
     ]
    }
   ],
   "source": [
    "!python ./mAP/main.py"
   ]
  },
  {
   "cell_type": "code",
   "execution_count": null,
   "metadata": {},
   "outputs": [],
   "source": []
  }
 ],
 "metadata": {
  "kernelspec": {
   "display_name": "Python 3",
   "language": "python",
   "name": "python3"
  },
  "language_info": {
   "codemirror_mode": {
    "name": "ipython",
    "version": 3
   },
   "file_extension": ".py",
   "mimetype": "text/x-python",
   "name": "python",
   "nbconvert_exporter": "python",
   "pygments_lexer": "ipython3",
   "version": "3.8.5"
  }
 },
 "nbformat": 4,
 "nbformat_minor": 4
}
