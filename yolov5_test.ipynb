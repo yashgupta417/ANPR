{
 "cells": [
  {
   "cell_type": "code",
   "execution_count": 1,
   "metadata": {},
   "outputs": [],
   "source": [
    "import numpy as np\n",
    "import pandas as pd\n",
    "import matplotlib.pyplot as plt"
   ]
  },
  {
   "cell_type": "code",
   "execution_count": 2,
   "metadata": {},
   "outputs": [],
   "source": [
    "#new terminal for jupyter notebook to display console outputs\n",
    "%qtconsole"
   ]
  },
  {
   "cell_type": "code",
   "execution_count": 4,
   "metadata": {},
   "outputs": [
    {
     "name": "stdout",
     "output_type": "stream",
     "text": [
      "C:\\Users\\HP\\Desktop\\ML\\ANPR\\yolov5\n",
      "Namespace(agnostic_nms=False, augment=False, classes=None, conf_thres=0.25, device='', exist_ok=True, img_size=640, iou_thres=0.45, name='exp', nosave=False, project='runs/detect', save_conf=True, save_txt=True, source='../random-cars-dataset/images/', update=False, view_img=False, weights=['./runs/train/exp2/weights/best.pt'])\n",
      "Fusing layers... \n",
      "image 1/87 C:\\Users\\HP\\Desktop\\ML\\ANPR\\yolov5\\..\\random-cars-dataset\\images\\Cars0.png: 352x640 1 license_plate, Done. (0.542s)\n",
      "image 2/87 C:\\Users\\HP\\Desktop\\ML\\ANPR\\yolov5\\..\\random-cars-dataset\\images\\Cars1.png: 416x640 1 license_plate, Done. (0.304s)\n",
      "image 3/87 C:\\Users\\HP\\Desktop\\ML\\ANPR\\yolov5\\..\\random-cars-dataset\\images\\Cars102.png: 512x640 1 license_plate, Done. (0.385s)\n",
      "image 4/87 C:\\Users\\HP\\Desktop\\ML\\ANPR\\yolov5\\..\\random-cars-dataset\\images\\Cars107.png: 384x640 1 license_plate, Done. (0.269s)\n",
      "image 5/87 C:\\Users\\HP\\Desktop\\ML\\ANPR\\yolov5\\..\\random-cars-dataset\\images\\Cars108.png: 512x640 1 license_plate, Done. (0.350s)\n",
      "image 6/87 C:\\Users\\HP\\Desktop\\ML\\ANPR\\yolov5\\..\\random-cars-dataset\\images\\Cars109.png: 448x640 1 license_plate, Done. (0.341s)\n",
      "image 7/87 C:\\Users\\HP\\Desktop\\ML\\ANPR\\yolov5\\..\\random-cars-dataset\\images\\Cars11.png: 512x640 1 license_plate, Done. (0.316s)\n",
      "image 8/87 C:\\Users\\HP\\Desktop\\ML\\ANPR\\yolov5\\..\\random-cars-dataset\\images\\Cars111.png: 384x640 1 license_plate, Done. (0.245s)\n",
      "image 9/87 C:\\Users\\HP\\Desktop\\ML\\ANPR\\yolov5\\..\\random-cars-dataset\\images\\Cars113.png: 480x640 1 license_plate, Done. (0.323s)\n",
      "image 10/87 C:\\Users\\HP\\Desktop\\ML\\ANPR\\yolov5\\..\\random-cars-dataset\\images\\Cars116.png: 544x640 1 license_plate, Done. (0.412s)\n",
      "image 11/87 C:\\Users\\HP\\Desktop\\ML\\ANPR\\yolov5\\..\\random-cars-dataset\\images\\Cars118.png: 416x640 1 license_plate, Done. (0.247s)\n",
      "image 12/87 C:\\Users\\HP\\Desktop\\ML\\ANPR\\yolov5\\..\\random-cars-dataset\\images\\Cars12.png: 256x640 1 license_plate, Done. (0.184s)\n",
      "image 13/87 C:\\Users\\HP\\Desktop\\ML\\ANPR\\yolov5\\..\\random-cars-dataset\\images\\Cars120.png: 448x640 1 license_plate, Done. (0.255s)\n",
      "image 14/87 C:\\Users\\HP\\Desktop\\ML\\ANPR\\yolov5\\..\\random-cars-dataset\\images\\Cars125.png: 416x640 1 license_plate, Done. (0.256s)\n",
      "image 15/87 C:\\Users\\HP\\Desktop\\ML\\ANPR\\yolov5\\..\\random-cars-dataset\\images\\Cars126.png: 480x640 1 license_plate, Done. (0.323s)\n",
      "image 16/87 C:\\Users\\HP\\Desktop\\ML\\ANPR\\yolov5\\..\\random-cars-dataset\\images\\Cars128.png: 384x640 1 license_plate, Done. (0.258s)\n",
      "image 17/87 C:\\Users\\HP\\Desktop\\ML\\ANPR\\yolov5\\..\\random-cars-dataset\\images\\Cars129.png: 512x640 1 license_plate, Done. (0.367s)\n",
      "image 18/87 C:\\Users\\HP\\Desktop\\ML\\ANPR\\yolov5\\..\\random-cars-dataset\\images\\Cars133.png: 448x640 1 license_plate, Done. (0.313s)\n",
      "image 19/87 C:\\Users\\HP\\Desktop\\ML\\ANPR\\yolov5\\..\\random-cars-dataset\\images\\Cars14.png: 384x640 1 license_plate, Done. (0.273s)\n",
      "image 20/87 C:\\Users\\HP\\Desktop\\ML\\ANPR\\yolov5\\..\\random-cars-dataset\\images\\Cars140.png: 448x640 1 license_plate, Done. (0.289s)\n",
      "image 21/87 C:\\Users\\HP\\Desktop\\ML\\ANPR\\yolov5\\..\\random-cars-dataset\\images\\Cars144.png: 544x640 1 license_plate, Done. (0.362s)\n",
      "image 22/87 C:\\Users\\HP\\Desktop\\ML\\ANPR\\yolov5\\..\\random-cars-dataset\\images\\Cars150.png: 480x640 1 license_plate, Done. (0.336s)\n",
      "image 23/87 C:\\Users\\HP\\Desktop\\ML\\ANPR\\yolov5\\..\\random-cars-dataset\\images\\Cars158.png: 480x640 1 license_plate, Done. (0.322s)\n",
      "image 24/87 C:\\Users\\HP\\Desktop\\ML\\ANPR\\yolov5\\..\\random-cars-dataset\\images\\Cars159.png: 544x640 1 license_plate, Done. (0.340s)\n",
      "image 25/87 C:\\Users\\HP\\Desktop\\ML\\ANPR\\yolov5\\..\\random-cars-dataset\\images\\Cars163.png: 384x640 1 license_plate, Done. (0.249s)\n",
      "image 26/87 C:\\Users\\HP\\Desktop\\ML\\ANPR\\yolov5\\..\\random-cars-dataset\\images\\Cars167.png: 512x640 1 license_plate, Done. (0.349s)\n",
      "image 27/87 C:\\Users\\HP\\Desktop\\ML\\ANPR\\yolov5\\..\\random-cars-dataset\\images\\Cars177.png: 384x640 1 license_plate, Done. (0.234s)\n",
      "image 28/87 C:\\Users\\HP\\Desktop\\ML\\ANPR\\yolov5\\..\\random-cars-dataset\\images\\Cars18.png: 512x640 1 license_plate, Done. (0.336s)\n",
      "image 29/87 C:\\Users\\HP\\Desktop\\ML\\ANPR\\yolov5\\..\\random-cars-dataset\\images\\Cars182.png: 384x640 1 license_plate, Done. (0.241s)\n",
      "image 30/87 C:\\Users\\HP\\Desktop\\ML\\ANPR\\yolov5\\..\\random-cars-dataset\\images\\Cars183.png: 384x640 1 license_plate, Done. (0.260s)\n",
      "image 31/87 C:\\Users\\HP\\Desktop\\ML\\ANPR\\yolov5\\..\\random-cars-dataset\\images\\Cars19.png: 384x640 2 license_plates, Done. (0.275s)\n",
      "image 32/87 C:\\Users\\HP\\Desktop\\ML\\ANPR\\yolov5\\..\\random-cars-dataset\\images\\Cars190.png: 480x640 1 license_plate, Done. (0.310s)\n",
      "image 33/87 C:\\Users\\HP\\Desktop\\ML\\ANPR\\yolov5\\..\\random-cars-dataset\\images\\Cars192.png: 480x640 1 license_plate, Done. (0.328s)\n",
      "image 34/87 C:\\Users\\HP\\Desktop\\ML\\ANPR\\yolov5\\..\\random-cars-dataset\\images\\Cars199.png: 448x640 1 license_plate, Done. (0.365s)\n",
      "image 35/87 C:\\Users\\HP\\Desktop\\ML\\ANPR\\yolov5\\..\\random-cars-dataset\\images\\Cars211.png: 480x640 1 license_plate, Done. (0.403s)\n",
      "image 36/87 C:\\Users\\HP\\Desktop\\ML\\ANPR\\yolov5\\..\\random-cars-dataset\\images\\Cars212.png: 480x640 1 license_plate, Done. (0.333s)\n",
      "image 37/87 C:\\Users\\HP\\Desktop\\ML\\ANPR\\yolov5\\..\\random-cars-dataset\\images\\Cars219.png: 480x640 1 license_plate, Done. (0.378s)\n",
      "image 38/87 C:\\Users\\HP\\Desktop\\ML\\ANPR\\yolov5\\..\\random-cars-dataset\\images\\Cars231.png: 448x640 1 license_plate, Done. (0.339s)\n",
      "image 39/87 C:\\Users\\HP\\Desktop\\ML\\ANPR\\yolov5\\..\\random-cars-dataset\\images\\Cars234.png: 384x640 1 license_plate, Done. (0.310s)\n",
      "image 40/87 C:\\Users\\HP\\Desktop\\ML\\ANPR\\yolov5\\..\\random-cars-dataset\\images\\Cars235.png: 384x640 1 license_plate, Done. (0.310s)\n",
      "image 41/87 C:\\Users\\HP\\Desktop\\ML\\ANPR\\yolov5\\..\\random-cars-dataset\\images\\Cars243.png: 480x640 1 license_plate, Done. (0.376s)\n",
      "image 42/87 C:\\Users\\HP\\Desktop\\ML\\ANPR\\yolov5\\..\\random-cars-dataset\\images\\Cars248.png: 480x640 1 license_plate, Done. (0.397s)\n",
      "image 43/87 C:\\Users\\HP\\Desktop\\ML\\ANPR\\yolov5\\..\\random-cars-dataset\\images\\Cars252.png: 512x640 1 license_plate, Done. (0.400s)\n",
      "image 44/87 C:\\Users\\HP\\Desktop\\ML\\ANPR\\yolov5\\..\\random-cars-dataset\\images\\Cars254.png: 608x640 1 license_plate, Done. (0.471s)\n",
      "image 45/87 C:\\Users\\HP\\Desktop\\ML\\ANPR\\yolov5\\..\\random-cars-dataset\\images\\Cars255.png: 448x640 1 license_plate, Done. (0.388s)\n",
      "image 46/87 C:\\Users\\HP\\Desktop\\ML\\ANPR\\yolov5\\..\\random-cars-dataset\\images\\Cars257.png: 480x640 1 license_plate, Done. (0.373s)\n",
      "image 47/87 C:\\Users\\HP\\Desktop\\ML\\ANPR\\yolov5\\..\\random-cars-dataset\\images\\Cars261.png: 480x640 1 license_plate, Done. (0.355s)\n",
      "image 48/87 C:\\Users\\HP\\Desktop\\ML\\ANPR\\yolov5\\..\\random-cars-dataset\\images\\Cars265.png: 352x640 1 license_plate, Done. (0.263s)\n",
      "image 49/87 C:\\Users\\HP\\Desktop\\ML\\ANPR\\yolov5\\..\\random-cars-dataset\\images\\Cars27.png: 384x640 1 license_plate, Done. (0.303s)\n",
      "image 50/87 C:\\Users\\HP\\Desktop\\ML\\ANPR\\yolov5\\..\\random-cars-dataset\\images\\Cars296.png: 512x640 1 license_plate, Done. (0.372s)\n",
      "image 51/87 C:\\Users\\HP\\Desktop\\ML\\ANPR\\yolov5\\..\\random-cars-dataset\\images\\Cars298.png: 448x640 1 license_plate, Done. (0.307s)\n",
      "image 52/87 C:\\Users\\HP\\Desktop\\ML\\ANPR\\yolov5\\..\\random-cars-dataset\\images\\Cars299.png: 480x640 1 license_plate, Done. (0.345s)\n",
      "image 53/87 C:\\Users\\HP\\Desktop\\ML\\ANPR\\yolov5\\..\\random-cars-dataset\\images\\Cars301.png: 320x640 1 license_plate, Done. (0.187s)\n",
      "image 54/87 C:\\Users\\HP\\Desktop\\ML\\ANPR\\yolov5\\..\\random-cars-dataset\\images\\Cars302.png: 320x640 1 license_plate, Done. (0.254s)\n",
      "image 55/87 C:\\Users\\HP\\Desktop\\ML\\ANPR\\yolov5\\..\\random-cars-dataset\\images\\Cars304.png: 384x640 1 license_plate, Done. (0.265s)\n",
      "image 56/87 C:\\Users\\HP\\Desktop\\ML\\ANPR\\yolov5\\..\\random-cars-dataset\\images\\Cars306.png: 640x640 1 license_plate, Done. (0.491s)\n",
      "image 57/87 C:\\Users\\HP\\Desktop\\ML\\ANPR\\yolov5\\..\\random-cars-dataset\\images\\Cars307.png: 448x640 1 license_plate, Done. (0.302s)\n",
      "image 58/87 C:\\Users\\HP\\Desktop\\ML\\ANPR\\yolov5\\..\\random-cars-dataset\\images\\Cars309.png: 384x640 1 license_plate, Done. (0.245s)\n",
      "image 59/87 C:\\Users\\HP\\Desktop\\ML\\ANPR\\yolov5\\..\\random-cars-dataset\\images\\Cars312.png: 384x640 1 license_plate, Done. (0.242s)\n",
      "image 60/87 C:\\Users\\HP\\Desktop\\ML\\ANPR\\yolov5\\..\\random-cars-dataset\\images\\Cars315.png: 480x640 1 license_plate, Done. (0.351s)\n",
      "image 61/87 C:\\Users\\HP\\Desktop\\ML\\ANPR\\yolov5\\..\\random-cars-dataset\\images\\Cars32.png: 480x640 1 license_plate, Done. (0.330s)\n",
      "image 62/87 C:\\Users\\HP\\Desktop\\ML\\ANPR\\yolov5\\..\\random-cars-dataset\\images\\Cars322.png: 576x640 1 license_plate, Done. (0.392s)\n",
      "image 63/87 C:\\Users\\HP\\Desktop\\ML\\ANPR\\yolov5\\..\\random-cars-dataset\\images\\Cars323.png: 384x640 1 license_plate, Done. (0.276s)\n",
      "image 64/87 C:\\Users\\HP\\Desktop\\ML\\ANPR\\yolov5\\..\\random-cars-dataset\\images\\Cars351.png: 384x640 1 license_plate, Done. (0.249s)\n",
      "image 65/87 C:\\Users\\HP\\Desktop\\ML\\ANPR\\yolov5\\..\\random-cars-dataset\\images\\Cars355.png: 448x640 1 license_plate, Done. (0.332s)\n",
      "image 66/87 C:\\Users\\HP\\Desktop\\ML\\ANPR\\yolov5\\..\\random-cars-dataset\\images\\Cars365.png: 448x640 1 license_plate, Done. (0.302s)\n",
      "image 67/87 C:\\Users\\HP\\Desktop\\ML\\ANPR\\yolov5\\..\\random-cars-dataset\\images\\Cars367.png: 448x640 1 license_plate, Done. (0.318s)\n",
      "image 68/87 C:\\Users\\HP\\Desktop\\ML\\ANPR\\yolov5\\..\\random-cars-dataset\\images\\Cars372.png: 480x640 1 license_plate, Done. (0.308s)\n",
      "image 69/87 C:\\Users\\HP\\Desktop\\ML\\ANPR\\yolov5\\..\\random-cars-dataset\\images\\Cars374.png: 352x640 1 license_plate, Done. (0.226s)\n",
      "image 70/87 C:\\Users\\HP\\Desktop\\ML\\ANPR\\yolov5\\..\\random-cars-dataset\\images\\Cars381.png: 384x640 1 license_plate, Done. (0.270s)\n",
      "image 71/87 C:\\Users\\HP\\Desktop\\ML\\ANPR\\yolov5\\..\\random-cars-dataset\\images\\Cars382.png: 480x640 1 license_plate, Done. (0.300s)\n",
      "image 72/87 C:\\Users\\HP\\Desktop\\ML\\ANPR\\yolov5\\..\\random-cars-dataset\\images\\Cars386.png: 480x640 1 license_plate, Done. (0.366s)\n",
      "image 73/87 C:\\Users\\HP\\Desktop\\ML\\ANPR\\yolov5\\..\\random-cars-dataset\\images\\Cars387.png: 448x640 1 license_plate, Done. (0.335s)\n",
      "image 74/87 C:\\Users\\HP\\Desktop\\ML\\ANPR\\yolov5\\..\\random-cars-dataset\\images\\Cars39.png: 480x640 1 license_plate, Done. (0.321s)\n",
      "image 75/87 C:\\Users\\HP\\Desktop\\ML\\ANPR\\yolov5\\..\\random-cars-dataset\\images\\Cars416.png: 480x640 1 license_plate, Done. (0.356s)\n",
      "image 76/87 C:\\Users\\HP\\Desktop\\ML\\ANPR\\yolov5\\..\\random-cars-dataset\\images\\Cars417.png: 480x640 1 license_plate, Done. (0.327s)\n",
      "image 77/87 C:\\Users\\HP\\Desktop\\ML\\ANPR\\yolov5\\..\\random-cars-dataset\\images\\Cars423.png: 416x640 1 license_plate, Done. (0.251s)\n",
      "image 78/87 C:\\Users\\HP\\Desktop\\ML\\ANPR\\yolov5\\..\\random-cars-dataset\\images\\Cars429.png: 640x512 1 license_plate, Done. (0.375s)\n",
      "image 79/87 C:\\Users\\HP\\Desktop\\ML\\ANPR\\yolov5\\..\\random-cars-dataset\\images\\Cars430.png: 384x640 1 license_plate, Done. (0.241s)\n",
      "image 80/87 C:\\Users\\HP\\Desktop\\ML\\ANPR\\yolov5\\..\\random-cars-dataset\\images\\Cars53.png: 480x640 1 license_plate, Done. (0.305s)\n",
      "image 81/87 C:\\Users\\HP\\Desktop\\ML\\ANPR\\yolov5\\..\\random-cars-dataset\\images\\Cars54.png: 480x640 1 license_plate, Done. (0.372s)\n",
      "image 82/87 C:\\Users\\HP\\Desktop\\ML\\ANPR\\yolov5\\..\\random-cars-dataset\\images\\Cars58.png: 416x640 1 license_plate, Done. (0.286s)\n",
      "image 83/87 C:\\Users\\HP\\Desktop\\ML\\ANPR\\yolov5\\..\\random-cars-dataset\\images\\Cars60.png: 480x640 1 license_plate, Done. (0.320s)\n",
      "image 84/87 C:\\Users\\HP\\Desktop\\ML\\ANPR\\yolov5\\..\\random-cars-dataset\\images\\Cars65.png: 544x640 1 license_plate, Done. (0.393s)\n",
      "image 85/87 C:\\Users\\HP\\Desktop\\ML\\ANPR\\yolov5\\..\\random-cars-dataset\\images\\Cars67.png: 320x640 1 license_plate, Done. (0.204s)\n",
      "image 86/87 C:\\Users\\HP\\Desktop\\ML\\ANPR\\yolov5\\..\\random-cars-dataset\\images\\Cars77.png: 448x640 1 license_plate, Done. (0.317s)\n",
      "image 87/87 C:\\Users\\HP\\Desktop\\ML\\ANPR\\yolov5\\..\\random-cars-dataset\\images\\Cars86.png: 384x640 1 license_plate, Done. (0.257s)\n",
      "Results saved to runs\\detect\\exp\n",
      "87 labels saved to runs\\detect\\exp\\labels\n",
      "Done. (33.325s)\n",
      "C:\\Users\\HP\\Desktop\\ML\\ANPR\n"
     ]
    },
    {
     "name": "stderr",
     "output_type": "stream",
     "text": [
      "YOLOv5  80d7d62 torch 1.8.1+cpu CPU\n",
      "\n",
      "Model Summary: 224 layers, 7053910 parameters, 0 gradients, 16.3 GFLOPS\n"
     ]
    }
   ],
   "source": [
    "%cd yolov5\n",
    "!python detect.py --weights ./runs/train/exp2/weights/best.pt --source ../random-cars-dataset/images/ --save-txt --exist-ok --save-conf\n",
    "%cd .."
   ]
  },
  {
   "cell_type": "code",
   "execution_count": 5,
   "metadata": {},
   "outputs": [],
   "source": [
    "PATH='./random-cars-dataset'\n",
    "\n",
    "def decode_yolo_format(img_name,width,height):\n",
    "    \n",
    "    img_result_path=f'./yolov5/runs/detect/exp/labels/{img_name}.txt'\n",
    "    \n",
    "    #creates a file if not exists\n",
    "    if not os.path.exists(img_result_path):\n",
    "        with open(img_result_path, 'w'): pass\n",
    "        \n",
    "    label_file=open(img_result_path)\n",
    "    \n",
    "    labels=label_file.readlines()\n",
    "    f=open(f'{PATH}/bounding_boxes_pred/{img_name}.txt','w')\n",
    "    \n",
    "    for label in labels:\n",
    "        s=label.replace('\\n','').split(' ')\n",
    "        s=[ float(i) for i in s]\n",
    "\n",
    "        bottom_x=((2*s[1]+s[3])/2)\n",
    "        top_x=bottom_x-s[3]\n",
    "\n",
    "        bottom_y=((2*s[2]+s[4])/2)\n",
    "        top_y=bottom_y-s[4]\n",
    "\n",
    "        top_x=int(top_x*width)\n",
    "        bottom_x=int(bottom_x*width)\n",
    "\n",
    "        top_y=int(top_y*height)\n",
    "        bottom_y=int(bottom_y*height)\n",
    "\n",
    "        conf=s[5]\n",
    "        \n",
    "        f.write(f'0 {conf} {top_x} {top_y} {bottom_x} {bottom_y} \\n')\n",
    "    \n",
    "    f.close()\n",
    "    label_file.close()\n"
   ]
  },
  {
   "cell_type": "code",
   "execution_count": 6,
   "metadata": {},
   "outputs": [],
   "source": [
    "import os\n",
    "import xml.etree.ElementTree as ET\n",
    "import re\n",
    "\n",
    "def xml_to_txt(file):    \n",
    "    \n",
    "    #reading xml file\n",
    "    root=ET.parse(f'{PATH}/annotations/{file}.xml').getroot()\n",
    "\n",
    "    #extracting bounding box\n",
    "    ob=root.find('object')\n",
    "\n",
    "    xmin=int(ob.find('bndbox/xmin').text)\n",
    "    ymin=int(ob.find('bndbox/ymin').text)\n",
    "    xmax=int(ob.find('bndbox/xmax').text)\n",
    "    ymax=int(ob.find('bndbox/ymax').text)\n",
    "    \n",
    "    \n",
    "    #writing to text file\n",
    "    f=open(f'{PATH}/bounding_boxes/{file}.txt','w')\n",
    "    f.write(f'0 {xmin} {ymin} {xmax} {ymax}')\n",
    "    f.close()"
   ]
  },
  {
   "cell_type": "code",
   "execution_count": 17,
   "metadata": {},
   "outputs": [],
   "source": [
    "import os\n",
    "def clear_dir(dir):\n",
    "    \n",
    "    for f in os.listdir(dir):\n",
    "        os.remove(os.path.join(dir,f))\n",
    "        \n",
    "#clearing dirs\n",
    "clear_dir(f'{PATH}/bounding_boxes/')\n",
    "clear_dir(f'{PATH}/bounding_boxes_pred/')"
   ]
  },
  {
   "cell_type": "code",
   "execution_count": 18,
   "metadata": {},
   "outputs": [],
   "source": [
    "import os\n",
    "try:\n",
    " from PIL import Image\n",
    "except ImportError:\n",
    " import Image\n",
    "\n",
    "\n",
    "#extracting bounding box of each image to calculate mAP of yolo\n",
    "for img in os.listdir(f'{PATH}/images'):\n",
    "    \n",
    "    #extracting file name, eg: Car1 from Car1.png\n",
    "    f_name=img.split('.')[0]\n",
    "    \n",
    "    #getting ground truth\n",
    "    xml_to_txt(f_name)\n",
    "    \n",
    "    #get image size\n",
    "    img_path=f'{PATH}/images/{img}'\n",
    "    width,height=Image.open(img_path).size\n",
    "    \n",
    "    \n",
    "    #getting predicting bounding box\n",
    "    decode_yolo_format(f_name,width,height)"
   ]
  },
  {
   "cell_type": "code",
   "execution_count": 39,
   "metadata": {},
   "outputs": [
    {
     "name": "stderr",
     "output_type": "stream",
     "text": [
      "Cloning into 'mAP'...\n"
     ]
    }
   ],
   "source": [
    "!git clone https://github.com/Cartucho/mAP"
   ]
  },
  {
   "cell_type": "code",
   "execution_count": 40,
   "metadata": {},
   "outputs": [],
   "source": [
    "#Steps to evalucate mAP\n",
    "\n",
    "# 1. Create the ground-truth files\n",
    "# 2. Copy the ground-truth files into the folder input/ground-truth/\n",
    "# 3. Create the detection-results files\n",
    "# 4. Copy the detection-results files into the folder input/detection-results/\n",
    "# 5. Run the code: python main.py"
   ]
  },
  {
   "cell_type": "code",
   "execution_count": 41,
   "metadata": {},
   "outputs": [],
   "source": [
    "#Step 1 and 3 are done, now we need to copy results to the above mentioned folders"
   ]
  },
  {
   "cell_type": "code",
   "execution_count": 20,
   "metadata": {},
   "outputs": [],
   "source": [
    "import shutil\n",
    "import os\n",
    "    \n",
    "#move all files from one directory to another\n",
    "def move_all_files(source_dir,target_dir):\n",
    "\n",
    "    file_names = os.listdir(source_dir)\n",
    "\n",
    "    for file_name in file_names:\n",
    "        shutil.copy(os.path.join(source_dir, file_name), target_dir)"
   ]
  },
  {
   "cell_type": "code",
   "execution_count": 21,
   "metadata": {},
   "outputs": [],
   "source": [
    "clear_dir('./mAP/input/ground-truth/')\n",
    "clear_dir('./mAP/input/detection-results/')\n",
    "clear_dir('./mAP/input/images-optional/')\n",
    "\n",
    "#moving ground truth files\n",
    "move_all_files('./random-cars-dataset/bounding_boxes/','./mAP/input/ground-truth/')\n",
    "\n",
    "#moving yolo predictions\n",
    "move_all_files('./random-cars-dataset/bounding_boxes_pred/','./mAP/input/detection-results/')\n",
    "\n",
    "#moving images(optional)\n",
    "move_all_files('./random-cars-dataset/images/','./mAP/input/images-optional/')"
   ]
  },
  {
   "cell_type": "code",
   "execution_count": 23,
   "metadata": {},
   "outputs": [
    {
     "name": "stdout",
     "output_type": "stream",
     "text": [
      "48.78% = 0 AP \n",
      "mAP = 48.78%\n"
     ]
    },
    {
     "name": "stderr",
     "output_type": "stream",
     "text": [
      "Traceback (most recent call last):\n",
      "  File \"./mAP/main.py\", line 753, in <module>\n",
      "cv2.error: OpenCV(4.5.1) C:\\Users\\appveyor\\AppData\\Local\\Temp\\1\\pip-req-build-kh7iq4w7\\opencv\\modules\\imgcodecs\\src\\loadsave.cpp:753: error: (-215:Assertion failed) !_img.empty() in function 'cv::imwrite'\n",
      "\n"
     ]
    }
   ],
   "source": [
    "!python ./mAP/main.py"
   ]
  },
  {
   "cell_type": "code",
   "execution_count": null,
   "metadata": {},
   "outputs": [],
   "source": []
  }
 ],
 "metadata": {
  "kernelspec": {
   "display_name": "Python 3",
   "language": "python",
   "name": "python3"
  },
  "language_info": {
   "codemirror_mode": {
    "name": "ipython",
    "version": 3
   },
   "file_extension": ".py",
   "mimetype": "text/x-python",
   "name": "python",
   "nbconvert_exporter": "python",
   "pygments_lexer": "ipython3",
   "version": "3.8.5"
  }
 },
 "nbformat": 4,
 "nbformat_minor": 4
}
